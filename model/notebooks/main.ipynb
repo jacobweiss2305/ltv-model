{
 "cells": [
  {
   "cell_type": "markdown",
   "id": "2e356337-5be3-4164-9956-e780b6fba9b7",
   "metadata": {
    "tags": []
   },
   "source": [
    "# Predicting customer lifetime value using machine learning\n",
    "---\n",
    "### Problem Statement: Can we build an accurate model to predict next 6 month LTV at customer level?\n",
    "---\n",
    "### Table of Contents:\n",
    "\n",
    "1. Load datasets, packages, and parameters\n",
    "2. Customer Exploratory Analysis\n",
    "3. Transactions Exploratory Analysis\n",
    "4. Response Variable Creation\n",
    "5. Feature Engineering\n",
    "6. Model Training\n",
    "    - Gradient Boosting Regression (aggregated peaks[<sup>1</sup>](#fn1) vs. non-aggregated peaks)\n",
    "    - Decision Tree\n",
    "    - Causal Graphical Models (aggregated peaks[<sup>1</sup>](#fn1))\n",
    "    - Bayesian Networks (aggregated peaks[<sup>1</sup>](#fn1))\n",
    "7. Model Evaluation\n",
    "8. Inference\n",
    "9. Closing Summary and Recommendations\n",
    "10. Future Work\n",
    "---\n",
    "\n",
    "Footnotes: [<sup>1</sup>](#fn1)Average rolling 6 month peak by customer\n",
    "\n",
    "---"
   ]
  },
  {
   "cell_type": "code",
   "execution_count": 1,
   "id": "dc6f757d-6507-4f7b-a3aa-cc19e972ae90",
   "metadata": {},
   "outputs": [
    {
     "name": "stdout",
     "output_type": "stream",
     "text": [
      "2021-12-08 12:18:55,294 - kedro.framework.session.store - INFO - `read()` not implemented for `BaseSessionStore`. Assuming empty store.\n",
      "2021-12-08 12:18:55,310 - root - INFO - ** Kedro project LTV Model\n",
      "2021-12-08 12:18:55,312 - root - INFO - Defined global variable `context`, `session` and `catalog`\n",
      "2021-12-08 12:18:55,957 - root - WARNING - MDLP was not imported successfully\n"
     ]
    }
   ],
   "source": [
    "%reload_kedro\n",
    "from process.pipelines.data_processing import nodes as dp\n",
    "from process.pipelines.data_science import nodes as ds\n",
    "import matplotlib.pyplot as plt\n",
    "from sklearn import preprocessing\n",
    "import pandas as pd\n",
    "import numpy as np\n",
    "# Run help(dp) or help(ds) for documentation on functions"
   ]
  },
  {
   "cell_type": "markdown",
   "id": "00e14221-b9e1-4dd5-8a61-3781f94467fe",
   "metadata": {
    "tags": []
   },
   "source": [
    "## 1. Load Raw Data Sets and Parameters"
   ]
  },
  {
   "cell_type": "code",
   "execution_count": 2,
   "id": "0c9f0899-a21e-437e-b9db-8090619da873",
   "metadata": {},
   "outputs": [
    {
     "name": "stdout",
     "output_type": "stream",
     "text": [
      "2021-12-08 12:18:57,387 - kedro.io.data_catalog - INFO - Loading data from `customers` (CSVDataSet)...\n",
      "2021-12-08 12:18:57,502 - kedro.io.data_catalog - INFO - Loading data from `transactions` (CSVDataSet)...\n"
     ]
    }
   ],
   "source": [
    "customers = catalog.load('customers').set_index('customer_id')\n",
    "transactions = catalog.load('transactions')"
   ]
  },
  {
   "cell_type": "markdown",
   "id": "d83c810b-348f-406c-9d79-10045f1f16c0",
   "metadata": {
    "tags": []
   },
   "source": [
    "## 2. Customer Exporatory Analysis"
   ]
  },
  {
   "cell_type": "code",
   "execution_count": 3,
   "id": "0566cae7-53f4-4bd6-8f1a-fe3c14759fa4",
   "metadata": {},
   "outputs": [
    {
     "data": {
      "text/html": [
       "<div>\n",
       "<style scoped>\n",
       "    .dataframe tbody tr th:only-of-type {\n",
       "        vertical-align: middle;\n",
       "    }\n",
       "\n",
       "    .dataframe tbody tr th {\n",
       "        vertical-align: top;\n",
       "    }\n",
       "\n",
       "    .dataframe thead th {\n",
       "        text-align: right;\n",
       "    }\n",
       "</style>\n",
       "<table border=\"1\" class=\"dataframe\">\n",
       "  <thead>\n",
       "    <tr style=\"text-align: right;\">\n",
       "      <th></th>\n",
       "      <th>state</th>\n",
       "      <th>age</th>\n",
       "      <th>gender</th>\n",
       "      <th>income</th>\n",
       "      <th>is_married</th>\n",
       "      <th>promo_group_1</th>\n",
       "      <th>promo_group_2</th>\n",
       "      <th>customer_loyalty_index</th>\n",
       "      <th>brand_awareness_index</th>\n",
       "    </tr>\n",
       "    <tr>\n",
       "      <th>customer_id</th>\n",
       "      <th></th>\n",
       "      <th></th>\n",
       "      <th></th>\n",
       "      <th></th>\n",
       "      <th></th>\n",
       "      <th></th>\n",
       "      <th></th>\n",
       "      <th></th>\n",
       "      <th></th>\n",
       "    </tr>\n",
       "  </thead>\n",
       "  <tbody>\n",
       "    <tr>\n",
       "      <th>0</th>\n",
       "      <td>NJ</td>\n",
       "      <td>64</td>\n",
       "      <td>Female</td>\n",
       "      <td>65000.0</td>\n",
       "      <td>Y</td>\n",
       "      <td>A</td>\n",
       "      <td>X</td>\n",
       "      <td>0.058849</td>\n",
       "      <td>1.969644e-01</td>\n",
       "    </tr>\n",
       "    <tr>\n",
       "      <th>1</th>\n",
       "      <td>NY</td>\n",
       "      <td>26</td>\n",
       "      <td>Female</td>\n",
       "      <td>43000.0</td>\n",
       "      <td>Y</td>\n",
       "      <td>A</td>\n",
       "      <td>Z</td>\n",
       "      <td>-4.872865</td>\n",
       "      <td>2.970386e-14</td>\n",
       "    </tr>\n",
       "    <tr>\n",
       "      <th>2</th>\n",
       "      <td>NH</td>\n",
       "      <td>55</td>\n",
       "      <td>Female</td>\n",
       "      <td>93000.0</td>\n",
       "      <td>Y</td>\n",
       "      <td>C</td>\n",
       "      <td>X</td>\n",
       "      <td>NaN</td>\n",
       "      <td>NaN</td>\n",
       "    </tr>\n",
       "    <tr>\n",
       "      <th>3</th>\n",
       "      <td>ME</td>\n",
       "      <td>18</td>\n",
       "      <td>Female</td>\n",
       "      <td>68000.0</td>\n",
       "      <td>N</td>\n",
       "      <td>B</td>\n",
       "      <td>Z</td>\n",
       "      <td>0.152339</td>\n",
       "      <td>2.341961e-03</td>\n",
       "    </tr>\n",
       "    <tr>\n",
       "      <th>4</th>\n",
       "      <td>CA</td>\n",
       "      <td>41</td>\n",
       "      <td>Female</td>\n",
       "      <td>25000.0</td>\n",
       "      <td>N</td>\n",
       "      <td>A</td>\n",
       "      <td>Y</td>\n",
       "      <td>0.732875</td>\n",
       "      <td>8.073341e-14</td>\n",
       "    </tr>\n",
       "  </tbody>\n",
       "</table>\n",
       "</div>"
      ],
      "text/plain": [
       "            state  age  gender   income is_married promo_group_1  \\\n",
       "customer_id                                                        \n",
       "0              NJ   64  Female  65000.0          Y             A   \n",
       "1              NY   26  Female  43000.0          Y             A   \n",
       "2              NH   55  Female  93000.0          Y             C   \n",
       "3              ME   18  Female  68000.0          N             B   \n",
       "4              CA   41  Female  25000.0          N             A   \n",
       "\n",
       "            promo_group_2  customer_loyalty_index  brand_awareness_index  \n",
       "customer_id                                                               \n",
       "0                       X                0.058849           1.969644e-01  \n",
       "1                       Z               -4.872865           2.970386e-14  \n",
       "2                       X                     NaN                    NaN  \n",
       "3                       Z                0.152339           2.341961e-03  \n",
       "4                       Y                0.732875           8.073341e-14  "
      ]
     },
     "execution_count": 3,
     "metadata": {},
     "output_type": "execute_result"
    }
   ],
   "source": [
    "customers.head()"
   ]
  },
  {
   "cell_type": "code",
   "execution_count": 4,
   "id": "04d06853-2452-4922-812c-4ec93b0eb9c1",
   "metadata": {
    "tags": []
   },
   "outputs": [
    {
     "name": "stdout",
     "output_type": "stream",
     "text": [
      "Female    0.49809\n",
      "Male      0.29921\n",
      "Other     0.20270\n",
      "Name: gender, dtype: float64\n"
     ]
    },
    {
     "data": {
      "image/png": "[encoded data removed]",
      "text/plain": [
       "<Figure size 432x288 with 1 Axes>"
      ]
     },
     "metadata": {
      "needs_background": "light"
     },
     "output_type": "display_data"
    }
   ],
   "source": [
    "ax = customers.gender.value_counts(normalize = True).plot.bar()\n",
    "ax.set_title(\"Distribution of Gender\")\n",
    "ax.set_xlabel(\"Categories\")\n",
    "ax.set_ylabel(\"Coverage (%)\")\n",
    "print(customers.gender.value_counts(normalize = True))"
   ]
  },
  {
   "cell_type": "markdown",
   "id": "881bac4d-0d76-40b1-a643-82481ac188e8",
   "metadata": {},
   "source": [
    "__The majority of customers are female (49%).__"
   ]
  },
  {
   "cell_type": "code",
   "execution_count": 5,
   "id": "c866b379-9f0d-431d-9305-84abef0a98e8",
   "metadata": {},
   "outputs": [
    {
     "name": "stdout",
     "output_type": "stream",
     "text": [
      "N    0.56061\n",
      "Y    0.43939\n",
      "Name: is_married, dtype: float64\n"
     ]
    },
    {
     "data": {
      "image/png": "[encoded data removed]",
      "text/plain": [
       "<Figure size 432x288 with 1 Axes>"
      ]
     },
     "metadata": {
      "needs_background": "light"
     },
     "output_type": "display_data"
    }
   ],
   "source": [
    "ax = customers.is_married.value_counts(normalize = True).plot.bar()\n",
    "ax.set_title(\"Distribution of Marriage\")\n",
    "ax.set_xlabel(\"Categories\")\n",
    "ax.set_ylabel(\"Coverage (%)\")\n",
    "print(customers.is_married.value_counts(normalize = True))"
   ]
  },
  {
   "cell_type": "markdown",
   "id": "07f7daee-bd5f-41e2-8e1b-df83c83e6724",
   "metadata": {},
   "source": [
    "__The majority of customers are not married (56%).__"
   ]
  },
  {
   "cell_type": "code",
   "execution_count": 6,
   "id": "4a569293-448a-445d-86c4-7294966cf943",
   "metadata": {},
   "outputs": [
    {
     "data": {
      "text/plain": [
       "gender  is_married\n",
       "Female  N             28024\n",
       "        Y             21785\n",
       "Male    N             16627\n",
       "        Y             13294\n",
       "Other   N             11410\n",
       "        Y              8860\n",
       "dtype: int64"
      ]
     },
     "execution_count": 6,
     "metadata": {},
     "output_type": "execute_result"
    }
   ],
   "source": [
    "customers[['gender','is_married']].value_counts()"
   ]
  },
  {
   "cell_type": "markdown",
   "id": "003fc1a5-ccda-4dcb-ae8a-d7228dde46b3",
   "metadata": {},
   "source": [
    "__The marriage rate is roughly the same between males and females, but not other.__"
   ]
  },
  {
   "cell_type": "code",
   "execution_count": 7,
   "id": "30a4e7b5-8b83-4c7c-85e6-eb6602b02f73",
   "metadata": {},
   "outputs": [
    {
     "name": "stdout",
     "output_type": "stream",
     "text": [
      "TX    0.113060\n",
      "CA    0.112743\n",
      "NJ    0.111744\n",
      "NY    0.111427\n",
      "GA    0.110934\n",
      "NH    0.110534\n",
      "FL    0.109935\n",
      "ME    0.109911\n",
      "MA    0.109712\n",
      "Name: state, dtype: float64\n"
     ]
    },
    {
     "data": {
      "image/png": "[encoded data removed]",
      "text/plain": [
       "<Figure size 432x288 with 1 Axes>"
      ]
     },
     "metadata": {
      "needs_background": "light"
     },
     "output_type": "display_data"
    }
   ],
   "source": [
    "ax = customers.state.value_counts(normalize = True).plot.bar()\n",
    "ax.set_title(\"Distribution of State\")\n",
    "ax.set_xlabel(\"States\")\n",
    "ax.set_ylabel(\"Coverage (%)\")\n",
    "print(customers.state.value_counts(normalize = True))"
   ]
  },
  {
   "cell_type": "markdown",
   "id": "289f7054-5295-4f54-81b9-690f1a491f32",
   "metadata": {},
   "source": [
    "__We have 9 distinct states that are evenly distributed.__"
   ]
  },
  {
   "cell_type": "code",
   "execution_count": 8,
   "id": "b74eaf47-79ee-4458-803c-4eb2883df95f",
   "metadata": {},
   "outputs": [
    {
     "data": {
      "image/png": "[encoded data removed]",
      "text/plain": [
       "<Figure size 432x288 with 2 Axes>"
      ]
     },
     "metadata": {
      "needs_background": "light"
     },
     "output_type": "display_data"
    }
   ],
   "source": [
    "plt.subplot(1, 2, 1)\n",
    "ax = customers.age.hist()\n",
    "ax.set_title(\"Distribution of Age\")\n",
    "ax.set_xlabel(\"Age\")\n",
    "ax.set_ylabel(\"Count\")\n",
    "\n",
    "plt.subplot(1, 2, 2)\n",
    "ax = customers.boxplot(column='age')\n",
    "ax.set_title(\"Distribution of Age\")\n",
    "ax.set_ylabel(\"Years\")                    \n",
    "\n",
    "plt.subplots_adjust(left=0.1,\n",
    "                    bottom=0.1, \n",
    "                    right=1.9, \n",
    "                    top=0.9, \n",
    "                    wspace=0.4, \n",
    "                    hspace=0.4)\n",
    "\n",
    "plt.show()"
   ]
  },
  {
   "cell_type": "markdown",
   "id": "9a3cf0b1-eb54-4e7f-8d66-b5b478479015",
   "metadata": {},
   "source": [
    "__Bottom half of customer population are between 18 and 42 (difference of 24 years), the top half are between 43 and 84 (difference 41 years)__"
   ]
  },
  {
   "cell_type": "code",
   "execution_count": 9,
   "id": "3a648ee4-b5e0-4af1-9954-0432fb9dfb16",
   "metadata": {},
   "outputs": [
    {
     "data": {
      "image/png": "[encoded data removed]",
      "text/plain": [
       "<Figure size 432x288 with 2 Axes>"
      ]
     },
     "metadata": {
      "needs_background": "light"
     },
     "output_type": "display_data"
    }
   ],
   "source": [
    "plt.subplot(1, 2, 1)\n",
    "ax = customers.income.hist()\n",
    "ax.set_title(\"Distribution of Income\")\n",
    "ax.set_xlabel(\"Income ($)\")\n",
    "ax.set_ylabel(\"Count\")\n",
    "\n",
    "plt.subplot(1, 2, 2)\n",
    "ax = customers.boxplot(column='income')\n",
    "ax.set_title(\"Distribution of Income\")\n",
    "ax.set_ylabel(\"Income ($)\")                   \n",
    "\n",
    "plt.subplots_adjust(left=0.1,\n",
    "                    bottom=0.1, \n",
    "                    right=1.9, \n",
    "                    top=0.9, \n",
    "                    wspace=0.4, \n",
    "                    hspace=0.4)\n",
    "\n",
    "plt.show()"
   ]
  },
  {
   "cell_type": "markdown",
   "id": "2481853b-cbb8-4d8c-9296-1fd8fe662413",
   "metadata": {},
   "source": [
    "__Bottom half of customer population earn less than $74,000/annually__"
   ]
  },
  {
   "cell_type": "code",
   "execution_count": 10,
   "id": "b33091e1-4131-4bf8-a9b4-58636da93924",
   "metadata": {},
   "outputs": [
    {
     "data": {
      "text/plain": [
       "Text(0, 0.5, 'Count')"
      ]
     },
     "execution_count": 10,
     "metadata": {},
     "output_type": "execute_result"
    },
    {
     "data": {
      "image/png": "[encoded data removed]",
      "text/plain": [
       "<Figure size 432x288 with 1 Axes>"
      ]
     },
     "metadata": {
      "needs_background": "light"
     },
     "output_type": "display_data"
    }
   ],
   "source": [
    "ax = customers.customer_loyalty_index.hist()\n",
    "ax.set_title(\"Distribution of Loyality Index\")\n",
    "ax.set_xlabel(\"Loyality Index\")\n",
    "ax.set_ylabel(\"Count\")"
   ]
  },
  {
   "cell_type": "markdown",
   "id": "2a0c055b-aae7-4909-9be3-c94a5385e071",
   "metadata": {},
   "source": [
    "__Customer loyalty index appears to be normally distributed around 0.__"
   ]
  },
  {
   "cell_type": "code",
   "execution_count": 11,
   "id": "0e2e8f65-4a7c-480b-b00e-4e5b6116560a",
   "metadata": {},
   "outputs": [
    {
     "data": {
      "text/plain": [
       "Text(0, 0.5, 'Count')"
      ]
     },
     "execution_count": 11,
     "metadata": {},
     "output_type": "execute_result"
    },
    {
     "data": {
      "image/png": "[encoded data removed]",
      "text/plain": [
       "<Figure size 432x288 with 1 Axes>"
      ]
     },
     "metadata": {
      "needs_background": "light"
     },
     "output_type": "display_data"
    }
   ],
   "source": [
    "ax = customers.brand_awareness_index.hist()\n",
    "ax.set_title(\"Distribution of Brand Awareness Index\")\n",
    "ax.set_xlabel(\"Brand Awareness Index\")\n",
    "ax.set_ylabel(\"Count\")"
   ]
  },
  {
   "cell_type": "markdown",
   "id": "4ed9e142-ad00-461e-8c35-01e8b250dbdb",
   "metadata": {},
   "source": [
    "__Brand Awareness has major postive skewness__"
   ]
  },
  {
   "cell_type": "code",
   "execution_count": 12,
   "id": "606684a1-3c56-4549-86bd-6aa27d0b4587",
   "metadata": {},
   "outputs": [
    {
     "name": "stdout",
     "output_type": "stream",
     "text": [
      "          income       age\n",
      "income  1.000000  0.004502\n",
      "age     0.004502  1.000000\n"
     ]
    },
    {
     "data": {
      "image/png": "[encoded data removed]",
      "text/plain": [
       "<Figure size 432x288 with 1 Axes>"
      ]
     },
     "metadata": {
      "needs_background": "light"
     },
     "output_type": "display_data"
    }
   ],
   "source": [
    "customers.plot.scatter(y = 'income', x = 'age')\n",
    "print(customers[['income','age']].corr())"
   ]
  },
  {
   "cell_type": "markdown",
   "id": "f1ca474d-6bff-4f6e-865b-752be239b32b",
   "metadata": {},
   "source": [
    "__There isn't a linear relationship between age and income__"
   ]
  },
  {
   "cell_type": "markdown",
   "id": "4f4e8e53-b52a-4d4a-a251-e2c8ee4f67a5",
   "metadata": {},
   "source": [
    "---\n",
    "__In fact, the continuous variables don't have any linear relationships.__"
   ]
  },
  {
   "cell_type": "code",
   "execution_count": 13,
   "id": "4338e042-bf7b-4919-b594-170f7bfea7a7",
   "metadata": {},
   "outputs": [
    {
     "data": {
      "text/html": [
       "<div>\n",
       "<style scoped>\n",
       "    .dataframe tbody tr th:only-of-type {\n",
       "        vertical-align: middle;\n",
       "    }\n",
       "\n",
       "    .dataframe tbody tr th {\n",
       "        vertical-align: top;\n",
       "    }\n",
       "\n",
       "    .dataframe thead th {\n",
       "        text-align: right;\n",
       "    }\n",
       "</style>\n",
       "<table border=\"1\" class=\"dataframe\">\n",
       "  <thead>\n",
       "    <tr style=\"text-align: right;\">\n",
       "      <th></th>\n",
       "      <th>income</th>\n",
       "      <th>age</th>\n",
       "      <th>customer_loyalty_index</th>\n",
       "      <th>brand_awareness_index</th>\n",
       "    </tr>\n",
       "  </thead>\n",
       "  <tbody>\n",
       "    <tr>\n",
       "      <th>income</th>\n",
       "      <td>1.000000</td>\n",
       "      <td>0.004502</td>\n",
       "      <td>0.001694</td>\n",
       "      <td>-0.003763</td>\n",
       "    </tr>\n",
       "    <tr>\n",
       "      <th>age</th>\n",
       "      <td>0.004502</td>\n",
       "      <td>1.000000</td>\n",
       "      <td>0.002308</td>\n",
       "      <td>-0.000759</td>\n",
       "    </tr>\n",
       "    <tr>\n",
       "      <th>customer_loyalty_index</th>\n",
       "      <td>0.001694</td>\n",
       "      <td>0.002308</td>\n",
       "      <td>1.000000</td>\n",
       "      <td>-0.002624</td>\n",
       "    </tr>\n",
       "    <tr>\n",
       "      <th>brand_awareness_index</th>\n",
       "      <td>-0.003763</td>\n",
       "      <td>-0.000759</td>\n",
       "      <td>-0.002624</td>\n",
       "      <td>1.000000</td>\n",
       "    </tr>\n",
       "  </tbody>\n",
       "</table>\n",
       "</div>"
      ],
      "text/plain": [
       "                          income       age  customer_loyalty_index  \\\n",
       "income                  1.000000  0.004502                0.001694   \n",
       "age                     0.004502  1.000000                0.002308   \n",
       "customer_loyalty_index  0.001694  0.002308                1.000000   \n",
       "brand_awareness_index  -0.003763 -0.000759               -0.002624   \n",
       "\n",
       "                        brand_awareness_index  \n",
       "income                              -0.003763  \n",
       "age                                 -0.000759  \n",
       "customer_loyalty_index              -0.002624  \n",
       "brand_awareness_index                1.000000  "
      ]
     },
     "execution_count": 13,
     "metadata": {},
     "output_type": "execute_result"
    }
   ],
   "source": [
    "customers[['income','age','customer_loyalty_index','brand_awareness_index']].corr()"
   ]
  },
  {
   "cell_type": "markdown",
   "id": "f11ac4d9-6a64-47bd-9043-81d06e044a31",
   "metadata": {},
   "source": [
    "---\n",
    "\n",
    "#### Customer EDA Recap:\n",
    "- 49% of customers are female, 29% are male, and 20% other\n",
    "- 56% of customers are not married.\n",
    "- Customers are only located in Texas, California, New Jersey, New York, and Georgia (evenly distributed)\n",
    "- 50% of customers are under the age of 42\n",
    "- 50% of customers have an annual income of $74,000\n",
    "- No linear relationship between income and age\n",
    "- No linear relationships between income, age, customer_loyalty, brand_awareness\n",
    "- We will need to Label encode the categorical variables.\n",
    "- We will need to apply Standard scale for our continuous variables.\n",
    "    - We will need to apply mean imputation for nan values.\n",
    "---"
   ]
  },
  {
   "cell_type": "markdown",
   "id": "18b1945a-8e37-411c-bd58-ffc0aaec4ab9",
   "metadata": {
    "tags": []
   },
   "source": [
    "## 3. Transactions Exporatory Analysis"
   ]
  },
  {
   "cell_type": "code",
   "execution_count": 14,
   "id": "576b67d2-060e-49a6-8be8-6c9e100cdc65",
   "metadata": {},
   "outputs": [
    {
     "data": {
      "text/html": [
       "<div>\n",
       "<style scoped>\n",
       "    .dataframe tbody tr th:only-of-type {\n",
       "        vertical-align: middle;\n",
       "    }\n",
       "\n",
       "    .dataframe tbody tr th {\n",
       "        vertical-align: top;\n",
       "    }\n",
       "\n",
       "    .dataframe thead th {\n",
       "        text-align: right;\n",
       "    }\n",
       "</style>\n",
       "<table border=\"1\" class=\"dataframe\">\n",
       "  <thead>\n",
       "    <tr style=\"text-align: right;\">\n",
       "      <th></th>\n",
       "      <th>customer_id</th>\n",
       "      <th>transaction_value</th>\n",
       "      <th>transaction_days_after_joining</th>\n",
       "    </tr>\n",
       "  </thead>\n",
       "  <tbody>\n",
       "    <tr>\n",
       "      <th>0</th>\n",
       "      <td>0</td>\n",
       "      <td>5.0</td>\n",
       "      <td>1.0</td>\n",
       "    </tr>\n",
       "    <tr>\n",
       "      <th>1</th>\n",
       "      <td>0</td>\n",
       "      <td>2.0</td>\n",
       "      <td>16.0</td>\n",
       "    </tr>\n",
       "    <tr>\n",
       "      <th>2</th>\n",
       "      <td>0</td>\n",
       "      <td>10.0</td>\n",
       "      <td>31.0</td>\n",
       "    </tr>\n",
       "    <tr>\n",
       "      <th>3</th>\n",
       "      <td>0</td>\n",
       "      <td>8.0</td>\n",
       "      <td>46.0</td>\n",
       "    </tr>\n",
       "    <tr>\n",
       "      <th>4</th>\n",
       "      <td>0</td>\n",
       "      <td>9.0</td>\n",
       "      <td>61.0</td>\n",
       "    </tr>\n",
       "  </tbody>\n",
       "</table>\n",
       "</div>"
      ],
      "text/plain": [
       "   customer_id  transaction_value  transaction_days_after_joining\n",
       "0            0                5.0                             1.0\n",
       "1            0                2.0                            16.0\n",
       "2            0               10.0                            31.0\n",
       "3            0                8.0                            46.0\n",
       "4            0                9.0                            61.0"
      ]
     },
     "execution_count": 14,
     "metadata": {},
     "output_type": "execute_result"
    }
   ],
   "source": [
    "transactions.head()"
   ]
  },
  {
   "cell_type": "code",
   "execution_count": 15,
   "id": "7ac4d319-9dc1-405f-8857-e08dd2554030",
   "metadata": {},
   "outputs": [
    {
     "data": {
      "image/png": "[encoded data removed]",
      "text/plain": [
       "<Figure size 432x288 with 2 Axes>"
      ]
     },
     "metadata": {
      "needs_background": "light"
     },
     "output_type": "display_data"
    }
   ],
   "source": [
    "plt.subplot(1, 2, 1)\n",
    "ax = transactions.transaction_value.hist()\n",
    "ax.set_title(\"Distribution of Transaction Value\")\n",
    "ax.set_xlabel(\"Transaction Value\")\n",
    "ax.set_ylabel(\"Count\")\n",
    "\n",
    "plt.subplot(1, 2, 2)\n",
    "ax = transactions.boxplot(column='transaction_value')\n",
    "ax.set_title(\"Distribution of Transaction Value\")\n",
    "ax.set_ylabel(\"Transaction Value ($)\")                   \n",
    "\n",
    "plt.subplots_adjust(left=0.1,\n",
    "                    bottom=0.1, \n",
    "                    right=1.9, \n",
    "                    top=0.9, \n",
    "                    wspace=0.4, \n",
    "                    hspace=0.4)\n",
    "\n",
    "plt.show()"
   ]
  },
  {
   "cell_type": "markdown",
   "id": "5b13a7db-2510-42cf-b3fe-0a2a2d6db44c",
   "metadata": {},
   "source": [
    "__Bottom 50% of transaction value is between 0.00 and 11.00 dollars. Said another way, 50% of transactions are less than 11 dollars.__"
   ]
  },
  {
   "cell_type": "code",
   "execution_count": 16,
   "id": "b29c3d82-c3ab-444f-9ef2-f030c2b8c16d",
   "metadata": {},
   "outputs": [
    {
     "data": {
      "image/png": "[encoded data removed]",
      "text/plain": [
       "<Figure size 432x288 with 2 Axes>"
      ]
     },
     "metadata": {
      "needs_background": "light"
     },
     "output_type": "display_data"
    }
   ],
   "source": [
    "plt.subplot(1, 2, 1)\n",
    "ax = transactions.transaction_days_after_joining.hist()\n",
    "ax.set_title(\"Distribution of Transaction Days\")\n",
    "ax.set_xlabel(\"Transaction Days\")\n",
    "ax.set_ylabel(\"Count\")\n",
    "\n",
    "plt.subplot(1, 2, 2)\n",
    "ax = transactions.boxplot(column='transaction_days_after_joining')\n",
    "ax.set_title(\"Distribution of Transaction Days\")\n",
    "ax.set_ylabel(\"Transaction Days\")                   \n",
    "\n",
    "plt.subplots_adjust(left=0.1,\n",
    "                    bottom=0.1, \n",
    "                    right=1.9, \n",
    "                    top=0.9, \n",
    "                    wspace=0.4, \n",
    "                    hspace=0.4)\n",
    "\n",
    "plt.show()"
   ]
  },
  {
   "cell_type": "markdown",
   "id": "ffb23e4e-f6c8-4f3f-90b2-5b157fed7e92",
   "metadata": {},
   "source": [
    "__50% of transaction are within 5 1/2 months after first transaction.__"
   ]
  },
  {
   "cell_type": "code",
   "execution_count": 17,
   "id": "c48fadae-42b0-40cc-a4f8-21ddc272da9b",
   "metadata": {},
   "outputs": [
    {
     "data": {
      "text/plain": [
       "Text(0, 0.5, 'Count')"
      ]
     },
     "execution_count": 17,
     "metadata": {},
     "output_type": "execute_result"
    },
    {
     "data": {
      "image/png": "[encoded data removed]",
      "text/plain": [
       "<Figure size 432x288 with 1 Axes>"
      ]
     },
     "metadata": {
      "needs_background": "light"
     },
     "output_type": "display_data"
    }
   ],
   "source": [
    "ax = transactions.groupby('customer_id').transaction_value.sum().hist()\n",
    "ax.set_title(\"Distribution of Total Customer Transaction Value\")\n",
    "ax.set_xlabel(\"Transaction Value\")\n",
    "ax.set_ylabel(\"Count\")                 "
   ]
  },
  {
   "cell_type": "markdown",
   "id": "a77bec5d-f58a-43e7-aa55-bebde50842f5",
   "metadata": {},
   "source": [
    "__50% of total customer spend is less than $89.__"
   ]
  },
  {
   "cell_type": "markdown",
   "id": "d1600996-c655-44fb-8653-9c688db959eb",
   "metadata": {},
   "source": [
    "---\n",
    "\n",
    "#### Transaction EDA Recap:\n",
    "- 50% of transactions occur within 5 1/2 months after first transaction\n",
    "- 50% of customer total transaction value is 89 dollars.\n",
    "- 50% of transactions are less than 11 dollars.\n",
    "- Clear evidence of positive skewness in transaction value and transaction days.\n",
    "---"
   ]
  },
  {
   "cell_type": "markdown",
   "id": "41e229ee-d0ed-4faf-81f3-2d2a283db74b",
   "metadata": {
    "tags": []
   },
   "source": [
    "## 4. Response Variable Creation"
   ]
  },
  {
   "cell_type": "markdown",
   "id": "1b9c914b-a631-4020-ad17-eaddf1fa8a46",
   "metadata": {},
   "source": [
    "* As a reminder, our goal is to predict customer lifetime value. Customer lifetime value is next 6 month LTV.\n",
    "* We define next 6 month LTV has the rolling 6 month sum of transaction value.\n",
    "---\n",
    "Lets go through an example. Here is the total cumulative sum of transaction value for customer_0."
   ]
  },
  {
   "cell_type": "code",
   "execution_count": 18,
   "id": "5e3a9528-93c0-45a7-b379-7df3c9ee3450",
   "metadata": {},
   "outputs": [
    {
     "data": {
      "text/plain": [
       "<AxesSubplot:>"
      ]
     },
     "execution_count": 18,
     "metadata": {},
     "output_type": "execute_result"
    },
    {
     "data": {
      "image/png": "[encoded data removed]",
      "text/plain": [
       "<Figure size 432x288 with 1 Axes>"
      ]
     },
     "metadata": {
      "needs_background": "light"
     },
     "output_type": "display_data"
    }
   ],
   "source": [
    "transactions[transactions['customer_id'] == 0]['transaction_value'].cumsum().plot()"
   ]
  },
  {
   "cell_type": "markdown",
   "id": "dbb6cead-4ae2-4586-9fec-b2ef136f0ea3",
   "metadata": {},
   "source": [
    "After 866 days from the initial purchase, customer_0 has a total lifetime value of $906.\n",
    "\n",
    "---"
   ]
  },
  {
   "cell_type": "markdown",
   "id": "30d82045-b3ec-4b22-810e-367a6fef299d",
   "metadata": {},
   "source": [
    "We can break up the cumulative sum by 180 days:"
   ]
  },
  {
   "cell_type": "code",
   "execution_count": 19,
   "id": "de499721-5f80-43a9-85dd-f869f2eb2a43",
   "metadata": {},
   "outputs": [],
   "source": [
    "#Column for 180 days (6 months)\n",
    "transactions['rolling_6_months'] = (\n",
    "    (transactions['transaction_days_after_joining']-1) / 180).astype(int)\n",
    "\n",
    "transactions['rolling_6_month_ltv'] = transactions.groupby(\n",
    "    ['customer_id', 'rolling_6_months'])['transaction_value'].cumsum()"
   ]
  },
  {
   "cell_type": "code",
   "execution_count": 20,
   "id": "64e02097-303f-4e5b-9e42-2fe4dd4ba4ae",
   "metadata": {},
   "outputs": [
    {
     "data": {
      "text/plain": [
       "Text(0, 0.5, 'Transaction value ($)')"
      ]
     },
     "execution_count": 20,
     "metadata": {},
     "output_type": "execute_result"
    },
    {
     "data": {
      "image/png": "[encoded data removed]",
      "text/plain": [
       "<Figure size 432x288 with 1 Axes>"
      ]
     },
     "metadata": {
      "needs_background": "light"
     },
     "output_type": "display_data"
    }
   ],
   "source": [
    "ax = transactions[transactions['customer_id'] == 0]['rolling_6_month_ltv'].plot()\n",
    "ax.set_title(\"Rolling 6 Month Cumulative Transaction Value Sum\")\n",
    "ax.set_ylabel(\"Transaction value ($)\")"
   ]
  },
  {
   "cell_type": "markdown",
   "id": "d8845e1e-77c1-4f89-8bda-184f6e9899c3",
   "metadata": {},
   "source": [
    "The peaks tell us the total transaction value within a rolling 180 day period. We will use the peaks as the response variables, because our goal is to predict the next 6 month ltv. Therefore we want to learn from the historical 6 month total ltv for each customer. \n",
    "\n",
    "---"
   ]
  },
  {
   "cell_type": "markdown",
   "id": "4c3a4dcf-32f6-4d04-b30a-7ec327da52a0",
   "metadata": {},
   "source": [
    "Our response variable is the rolling 180 day cumulative transaction value for each customer (rolling_6_month_ltv)"
   ]
  },
  {
   "cell_type": "code",
   "execution_count": 21,
   "id": "989607a7-9ef8-4c6c-afbc-47b37c5d997f",
   "metadata": {},
   "outputs": [
    {
     "data": {
      "text/html": [
       "<div>\n",
       "<style scoped>\n",
       "    .dataframe tbody tr th:only-of-type {\n",
       "        vertical-align: middle;\n",
       "    }\n",
       "\n",
       "    .dataframe tbody tr th {\n",
       "        vertical-align: top;\n",
       "    }\n",
       "\n",
       "    .dataframe thead th {\n",
       "        text-align: right;\n",
       "    }\n",
       "</style>\n",
       "<table border=\"1\" class=\"dataframe\">\n",
       "  <thead>\n",
       "    <tr style=\"text-align: right;\">\n",
       "      <th></th>\n",
       "      <th>rolling_6_months</th>\n",
       "      <th>rolling_6_month_ltv</th>\n",
       "    </tr>\n",
       "    <tr>\n",
       "      <th>customer_id</th>\n",
       "      <th></th>\n",
       "      <th></th>\n",
       "    </tr>\n",
       "  </thead>\n",
       "  <tbody>\n",
       "    <tr>\n",
       "      <th>0</th>\n",
       "      <td>0</td>\n",
       "      <td>134.0</td>\n",
       "    </tr>\n",
       "    <tr>\n",
       "      <th>0</th>\n",
       "      <td>1</td>\n",
       "      <td>228.0</td>\n",
       "    </tr>\n",
       "    <tr>\n",
       "      <th>0</th>\n",
       "      <td>2</td>\n",
       "      <td>181.0</td>\n",
       "    </tr>\n",
       "    <tr>\n",
       "      <th>0</th>\n",
       "      <td>3</td>\n",
       "      <td>197.0</td>\n",
       "    </tr>\n",
       "    <tr>\n",
       "      <th>0</th>\n",
       "      <td>4</td>\n",
       "      <td>166.0</td>\n",
       "    </tr>\n",
       "  </tbody>\n",
       "</table>\n",
       "</div>"
      ],
      "text/plain": [
       "             rolling_6_months  rolling_6_month_ltv\n",
       "customer_id                                       \n",
       "0                           0                134.0\n",
       "0                           1                228.0\n",
       "0                           2                181.0\n",
       "0                           3                197.0\n",
       "0                           4                166.0"
      ]
     },
     "execution_count": 21,
     "metadata": {},
     "output_type": "execute_result"
    }
   ],
   "source": [
    "rolling_ltv = dp.target_variable(transactions)\n",
    "rolling_ltv.head()"
   ]
  },
  {
   "cell_type": "code",
   "execution_count": 22,
   "id": "3e206401-4c1c-4865-a451-3fc1164f5743",
   "metadata": {},
   "outputs": [],
   "source": [
    "#Build our repsonse variable for the feature table\n",
    "response = dp.target_variable(transactions).drop('rolling_6_months', axis = 1)"
   ]
  },
  {
   "cell_type": "markdown",
   "id": "7b6321f2-1c68-4f5c-b03f-1b4e43267bbd",
   "metadata": {},
   "source": [
    "---"
   ]
  },
  {
   "cell_type": "markdown",
   "id": "3792fdc2-b521-4863-88d5-cc480736392c",
   "metadata": {
    "tags": []
   },
   "source": [
    "## 5. Feature Engineering"
   ]
  },
  {
   "cell_type": "markdown",
   "id": "63eba90d-cc2a-41cc-98db-f99b3993d06b",
   "metadata": {},
   "source": [
    "We will use a feature engineering map to provide standard scaler and label encoding on the customers table. The map is shown below which is loaded via the parameters.yml file."
   ]
  },
  {
   "cell_type": "code",
   "execution_count": 23,
   "id": "3c6531ab-6f8a-419a-aec0-c20dd2e5801c",
   "metadata": {},
   "outputs": [
    {
     "name": "stdout",
     "output_type": "stream",
     "text": [
      "2021-12-08 12:19:22,635 - kedro.io.data_catalog - INFO - Loading data from `parameters` (MemoryDataSet)...\n"
     ]
    },
    {
     "data": {
      "text/plain": [
       "{'state': 'label',\n",
       " 'gender': 'label',\n",
       " 'is_married': 'label',\n",
       " 'promo_group_1': 'label',\n",
       " 'promo_group_2': 'label',\n",
       " 'age': 'continuous',\n",
       " 'income': 'continuous',\n",
       " 'customer_loyalty_index': 'continuous',\n",
       " 'brand_awareness_index': 'continuous'}"
      ]
     },
     "execution_count": 23,
     "metadata": {},
     "output_type": "execute_result"
    }
   ],
   "source": [
    "parameters = catalog.load('parameters')\n",
    "parameters['feature_engineering_map']"
   ]
  },
  {
   "cell_type": "code",
   "execution_count": 24,
   "id": "0666b65c-c987-49c6-b0ab-83ae0cca4371",
   "metadata": {},
   "outputs": [
    {
     "name": "stdout",
     "output_type": "stream",
     "text": [
      "Help on function continuous_variables in module process.pipelines.data_processing.nodes:\n",
      "\n",
      "continuous_variables(df: pandas.core.frame.DataFrame, parameters: Dict) -> pandas.core.frame.DataFrame\n",
      "    Scale continuous variables using scikit learn Standard Scaler with mean imputation\n",
      "    \n",
      "    Args:\n",
      "        df (pd.DataFrame): raw feature table\n",
      "        parameters ([type], optional): dictionary of feature and type mapping.\n",
      "    \n",
      "    Returns:\n",
      "        Tuple: scaled dense feature table and scalar mapping\n",
      "\n",
      "Help on function categorical_variables in module process.pipelines.data_processing.nodes:\n",
      "\n",
      "categorical_variables(df: pandas.core.frame.DataFrame, parameters: Dict) -> Tuple\n",
      "    Convert categorical variables to continuous variables using scikit learn label encoder. Also provide label encode mapping as seperate mapping.\n",
      "    \n",
      "    Args:\n",
      "        df (pd.DataFrame): dense raw features\n",
      "        parameters ([type], optional): dictionary of feature and type mapping. Defaults to None.\n",
      "    \n",
      "    Returns:\n",
      "        Tuple: categorical features and label mapping\n",
      "\n"
     ]
    }
   ],
   "source": [
    "cont_features = dp.continuous_variables(customers, parameters)\n",
    "help(dp.continuous_variables)\n",
    "cat_features, label_mapping = dp.categorical_variables(customers, parameters)\n",
    "help(dp.categorical_variables)"
   ]
  },
  {
   "cell_type": "code",
   "execution_count": 25,
   "id": "24ab198d-8bf9-4ddc-ae23-2e2d1fe63615",
   "metadata": {},
   "outputs": [
    {
     "data": {
      "text/html": [
       "<div>\n",
       "<style scoped>\n",
       "    .dataframe tbody tr th:only-of-type {\n",
       "        vertical-align: middle;\n",
       "    }\n",
       "\n",
       "    .dataframe tbody tr th {\n",
       "        vertical-align: top;\n",
       "    }\n",
       "\n",
       "    .dataframe thead th {\n",
       "        text-align: right;\n",
       "    }\n",
       "</style>\n",
       "<table border=\"1\" class=\"dataframe\">\n",
       "  <thead>\n",
       "    <tr style=\"text-align: right;\">\n",
       "      <th></th>\n",
       "      <th>age</th>\n",
       "      <th>income</th>\n",
       "      <th>customer_loyalty_index</th>\n",
       "      <th>brand_awareness_index</th>\n",
       "    </tr>\n",
       "  </thead>\n",
       "  <tbody>\n",
       "    <tr>\n",
       "      <th>0</th>\n",
       "      <td>1.123826</td>\n",
       "      <td>-0.369170</td>\n",
       "      <td>0.039494</td>\n",
       "      <td>-0.253363</td>\n",
       "    </tr>\n",
       "    <tr>\n",
       "      <th>1</th>\n",
       "      <td>-1.045294</td>\n",
       "      <td>-0.919187</td>\n",
       "      <td>-3.448415</td>\n",
       "      <td>-0.316156</td>\n",
       "    </tr>\n",
       "    <tr>\n",
       "      <th>2</th>\n",
       "      <td>0.610087</td>\n",
       "      <td>0.330852</td>\n",
       "      <td>0.000000</td>\n",
       "      <td>0.000000</td>\n",
       "    </tr>\n",
       "    <tr>\n",
       "      <th>3</th>\n",
       "      <td>-1.501951</td>\n",
       "      <td>-0.294167</td>\n",
       "      <td>0.105614</td>\n",
       "      <td>-0.315410</td>\n",
       "    </tr>\n",
       "    <tr>\n",
       "      <th>4</th>\n",
       "      <td>-0.189062</td>\n",
       "      <td>-1.369201</td>\n",
       "      <td>0.516192</td>\n",
       "      <td>-0.316156</td>\n",
       "    </tr>\n",
       "  </tbody>\n",
       "</table>\n",
       "</div>"
      ],
      "text/plain": [
       "        age    income  customer_loyalty_index  brand_awareness_index\n",
       "0  1.123826 -0.369170                0.039494              -0.253363\n",
       "1 -1.045294 -0.919187               -3.448415              -0.316156\n",
       "2  0.610087  0.330852                0.000000               0.000000\n",
       "3 -1.501951 -0.294167                0.105614              -0.315410\n",
       "4 -0.189062 -1.369201                0.516192              -0.316156"
      ]
     },
     "execution_count": 25,
     "metadata": {},
     "output_type": "execute_result"
    }
   ],
   "source": [
    "# Standard scaling on continusous features\n",
    "cont_features.head()"
   ]
  },
  {
   "cell_type": "code",
   "execution_count": 26,
   "id": "a6217659-b486-4acb-b37d-b846f9aed2fd",
   "metadata": {},
   "outputs": [
    {
     "data": {
      "text/html": [
       "<div>\n",
       "<style scoped>\n",
       "    .dataframe tbody tr th:only-of-type {\n",
       "        vertical-align: middle;\n",
       "    }\n",
       "\n",
       "    .dataframe tbody tr th {\n",
       "        vertical-align: top;\n",
       "    }\n",
       "\n",
       "    .dataframe thead th {\n",
       "        text-align: right;\n",
       "    }\n",
       "</style>\n",
       "<table border=\"1\" class=\"dataframe\">\n",
       "  <thead>\n",
       "    <tr style=\"text-align: right;\">\n",
       "      <th></th>\n",
       "      <th>state_label</th>\n",
       "      <th>gender_label</th>\n",
       "      <th>is_married_label</th>\n",
       "      <th>promo_group_1_label</th>\n",
       "      <th>promo_group_2_label</th>\n",
       "    </tr>\n",
       "    <tr>\n",
       "      <th>customer_id</th>\n",
       "      <th></th>\n",
       "      <th></th>\n",
       "      <th></th>\n",
       "      <th></th>\n",
       "      <th></th>\n",
       "    </tr>\n",
       "  </thead>\n",
       "  <tbody>\n",
       "    <tr>\n",
       "      <th>0</th>\n",
       "      <td>6</td>\n",
       "      <td>0</td>\n",
       "      <td>1</td>\n",
       "      <td>0</td>\n",
       "      <td>0</td>\n",
       "    </tr>\n",
       "    <tr>\n",
       "      <th>1</th>\n",
       "      <td>7</td>\n",
       "      <td>0</td>\n",
       "      <td>1</td>\n",
       "      <td>0</td>\n",
       "      <td>2</td>\n",
       "    </tr>\n",
       "    <tr>\n",
       "      <th>2</th>\n",
       "      <td>5</td>\n",
       "      <td>0</td>\n",
       "      <td>1</td>\n",
       "      <td>2</td>\n",
       "      <td>0</td>\n",
       "    </tr>\n",
       "    <tr>\n",
       "      <th>3</th>\n",
       "      <td>4</td>\n",
       "      <td>0</td>\n",
       "      <td>0</td>\n",
       "      <td>1</td>\n",
       "      <td>2</td>\n",
       "    </tr>\n",
       "    <tr>\n",
       "      <th>4</th>\n",
       "      <td>0</td>\n",
       "      <td>0</td>\n",
       "      <td>0</td>\n",
       "      <td>0</td>\n",
       "      <td>1</td>\n",
       "    </tr>\n",
       "  </tbody>\n",
       "</table>\n",
       "</div>"
      ],
      "text/plain": [
       "             state_label  gender_label  is_married_label  promo_group_1_label  \\\n",
       "customer_id                                                                     \n",
       "0                      6             0                 1                    0   \n",
       "1                      7             0                 1                    0   \n",
       "2                      5             0                 1                    2   \n",
       "3                      4             0                 0                    1   \n",
       "4                      0             0                 0                    0   \n",
       "\n",
       "             promo_group_2_label  \n",
       "customer_id                       \n",
       "0                              0  \n",
       "1                              2  \n",
       "2                              0  \n",
       "3                              2  \n",
       "4                              1  "
      ]
     },
     "execution_count": 26,
     "metadata": {},
     "output_type": "execute_result"
    }
   ],
   "source": [
    "#Label encoding for categorical features\n",
    "cat_features.head()"
   ]
  },
  {
   "cell_type": "code",
   "execution_count": 27,
   "id": "ccd42a4d-821e-42ae-b298-43c0ab670650",
   "metadata": {},
   "outputs": [
    {
     "data": {
      "text/html": [
       "<div>\n",
       "<style scoped>\n",
       "    .dataframe tbody tr th:only-of-type {\n",
       "        vertical-align: middle;\n",
       "    }\n",
       "\n",
       "    .dataframe tbody tr th {\n",
       "        vertical-align: top;\n",
       "    }\n",
       "\n",
       "    .dataframe thead th {\n",
       "        text-align: right;\n",
       "    }\n",
       "</style>\n",
       "<table border=\"1\" class=\"dataframe\">\n",
       "  <thead>\n",
       "    <tr style=\"text-align: right;\">\n",
       "      <th></th>\n",
       "      <th>input</th>\n",
       "      <th>output</th>\n",
       "      <th>attribute</th>\n",
       "    </tr>\n",
       "  </thead>\n",
       "  <tbody>\n",
       "    <tr>\n",
       "      <th>0</th>\n",
       "      <td>CA</td>\n",
       "      <td>0</td>\n",
       "      <td>state</td>\n",
       "    </tr>\n",
       "    <tr>\n",
       "      <th>1</th>\n",
       "      <td>FL</td>\n",
       "      <td>1</td>\n",
       "      <td>state</td>\n",
       "    </tr>\n",
       "    <tr>\n",
       "      <th>2</th>\n",
       "      <td>GA</td>\n",
       "      <td>2</td>\n",
       "      <td>state</td>\n",
       "    </tr>\n",
       "    <tr>\n",
       "      <th>3</th>\n",
       "      <td>MA</td>\n",
       "      <td>3</td>\n",
       "      <td>state</td>\n",
       "    </tr>\n",
       "    <tr>\n",
       "      <th>4</th>\n",
       "      <td>ME</td>\n",
       "      <td>4</td>\n",
       "      <td>state</td>\n",
       "    </tr>\n",
       "  </tbody>\n",
       "</table>\n",
       "</div>"
      ],
      "text/plain": [
       "  input  output attribute\n",
       "0    CA       0     state\n",
       "1    FL       1     state\n",
       "2    GA       2     state\n",
       "3    MA       3     state\n",
       "4    ME       4     state"
      ]
     },
     "execution_count": 27,
     "metadata": {},
     "output_type": "execute_result"
    }
   ],
   "source": [
    "#label encoded mapping\n",
    "label_mapping.head()"
   ]
  },
  {
   "cell_type": "markdown",
   "id": "ce6e8ca8-a5dd-4c54-94cb-26bd85ad311b",
   "metadata": {},
   "source": [
    "One last step in our feature table process is dropping variables with high multicollinearity (as measured with VIF).\n",
    "\n",
    "To view logic for VIF please see below or visit /src/process/pipelines/data_processing/nodes.py"
   ]
  },
  {
   "cell_type": "code",
   "execution_count": 28,
   "id": "91d481aa-432b-4e34-a59c-3013c4595a52",
   "metadata": {},
   "outputs": [
    {
     "name": "stdout",
     "output_type": "stream",
     "text": [
      "Help on function target_variable in module process.pipelines.data_processing.nodes:\n",
      "\n",
      "target_variable(transactions: pandas.core.frame.DataFrame) -> pandas.core.frame.DataFrame\n",
      "    Calculate the rolling 6 month LTV\n",
      "    \n",
      "    Args:\n",
      "        transactions (pd.DataFrame): customer transactions\n",
      "    \n",
      "    Returns:\n",
      "        pd.DataFrame: customer transactions with rolling 6 month LTV\n",
      "\n",
      "--------------------------------------------------------------------------------\n",
      "Help on function _calculate_vif in module process.pipelines.data_processing.nodes:\n",
      "\n",
      "_calculate_vif(feature_table: pandas.core.frame.DataFrame, thresh=5.0) -> pandas.core.frame.DataFrame\n",
      "    Remove multicollinearity in feature table using vif with a threshold of 5.0 (leverages parallel runs).\n",
      "    \n",
      "    Args:\n",
      "        feature_table (pd.DataFrame): standardized feature table\n",
      "        thresh (float, optional): vif threshold. Defaults to 5.0.\n",
      "    \n",
      "    Returns:\n",
      "        pd.DataFrame: standardized feature table with low multicollinearity\n",
      "\n",
      "--------------------------------------------------------------------------------\n",
      "Help on function standardized_feature_table in module process.pipelines.data_processing.nodes:\n",
      "\n",
      "standardized_feature_table(response: pandas.core.frame.DataFrame, cont_features: pandas.core.frame.DataFrame, cat_features: pandas.core.frame.DataFrame) -> pandas.core.frame.DataFrame\n",
      "    Concatenates features and response variable into trainable dataset. Removes Multicollinearity between categorical and continuous features.\n",
      "    \n",
      "    Args:\n",
      "        response (pd.DataFrame): Rolling 6 month LTV\n",
      "        cont_features (pd.DataFrame): Standard Scaled continuous features\n",
      "        cat_features (pd.DataFrame): Label encoded categorical features\n",
      "    \n",
      "    Returns:\n",
      "        pd.DataFrame: standardized feature table\n",
      "\n",
      "--------------------------------------------------------------------------------\n",
      "9\n"
     ]
    },
    {
     "name": "stderr",
     "output_type": "stream",
     "text": [
      "[Parallel(n_jobs=-1)]: Using backend LokyBackend with 8 concurrent workers.\n",
      "[Parallel(n_jobs=-1)]: Done   2 out of   9 | elapsed:    1.4s remaining:    4.9s\n",
      "[Parallel(n_jobs=-1)]: Done   4 out of   9 | elapsed:    1.4s remaining:    1.8s\n",
      "[Parallel(n_jobs=-1)]: Done   6 out of   9 | elapsed:    1.5s remaining:    0.7s\n",
      "[Parallel(n_jobs=-1)]: Done   9 out of   9 | elapsed:    1.5s finished\n"
     ]
    },
    {
     "name": "stdout",
     "output_type": "stream",
     "text": [
      "Remaining variables:\n",
      "[['state_label', 'gender_label', 'is_married_label', 'promo_group_1_label', 'promo_group_2_label', 'age', 'income', 'customer_loyalty_index', 'brand_awareness_index']]\n"
     ]
    }
   ],
   "source": [
    "help(dp.target_variable)\n",
    "print(\"--------------------------------------------------------------------------------\")\n",
    "help(dp._calculate_vif)\n",
    "print(\"--------------------------------------------------------------------------------\")\n",
    "help(dp.standardized_feature_table)\n",
    "print(\"--------------------------------------------------------------------------------\")\n",
    "response = dp.target_variable(transactions)\n",
    "feature_table = dp.standardized_feature_table(response, cont_features, cat_features)"
   ]
  },
  {
   "cell_type": "markdown",
   "id": "2cd8a3ce-7c56-43f7-a8fa-57df32b3b198",
   "metadata": {},
   "source": [
    "__We didn't lose any features to VIF. This means features are not highly correlated with each other.__"
   ]
  },
  {
   "cell_type": "code",
   "execution_count": 29,
   "id": "0c361f94-aa58-4d74-bdae-c7b46055cae1",
   "metadata": {},
   "outputs": [
    {
     "data": {
      "text/html": [
       "<div>\n",
       "<style scoped>\n",
       "    .dataframe tbody tr th:only-of-type {\n",
       "        vertical-align: middle;\n",
       "    }\n",
       "\n",
       "    .dataframe tbody tr th {\n",
       "        vertical-align: top;\n",
       "    }\n",
       "\n",
       "    .dataframe thead th {\n",
       "        text-align: right;\n",
       "    }\n",
       "</style>\n",
       "<table border=\"1\" class=\"dataframe\">\n",
       "  <thead>\n",
       "    <tr style=\"text-align: right;\">\n",
       "      <th></th>\n",
       "      <th>rolling_6_months</th>\n",
       "      <th>rolling_6_month_ltv</th>\n",
       "      <th>state_label</th>\n",
       "      <th>gender_label</th>\n",
       "      <th>is_married_label</th>\n",
       "      <th>promo_group_1_label</th>\n",
       "      <th>promo_group_2_label</th>\n",
       "      <th>age</th>\n",
       "      <th>income</th>\n",
       "      <th>customer_loyalty_index</th>\n",
       "      <th>brand_awareness_index</th>\n",
       "    </tr>\n",
       "  </thead>\n",
       "  <tbody>\n",
       "    <tr>\n",
       "      <th>0</th>\n",
       "      <td>0</td>\n",
       "      <td>134.0</td>\n",
       "      <td>6</td>\n",
       "      <td>0</td>\n",
       "      <td>1</td>\n",
       "      <td>0</td>\n",
       "      <td>0</td>\n",
       "      <td>1.123826</td>\n",
       "      <td>-0.36917</td>\n",
       "      <td>0.039494</td>\n",
       "      <td>-0.253363</td>\n",
       "    </tr>\n",
       "    <tr>\n",
       "      <th>0</th>\n",
       "      <td>1</td>\n",
       "      <td>228.0</td>\n",
       "      <td>6</td>\n",
       "      <td>0</td>\n",
       "      <td>1</td>\n",
       "      <td>0</td>\n",
       "      <td>0</td>\n",
       "      <td>1.123826</td>\n",
       "      <td>-0.36917</td>\n",
       "      <td>0.039494</td>\n",
       "      <td>-0.253363</td>\n",
       "    </tr>\n",
       "    <tr>\n",
       "      <th>0</th>\n",
       "      <td>2</td>\n",
       "      <td>181.0</td>\n",
       "      <td>6</td>\n",
       "      <td>0</td>\n",
       "      <td>1</td>\n",
       "      <td>0</td>\n",
       "      <td>0</td>\n",
       "      <td>1.123826</td>\n",
       "      <td>-0.36917</td>\n",
       "      <td>0.039494</td>\n",
       "      <td>-0.253363</td>\n",
       "    </tr>\n",
       "    <tr>\n",
       "      <th>0</th>\n",
       "      <td>3</td>\n",
       "      <td>197.0</td>\n",
       "      <td>6</td>\n",
       "      <td>0</td>\n",
       "      <td>1</td>\n",
       "      <td>0</td>\n",
       "      <td>0</td>\n",
       "      <td>1.123826</td>\n",
       "      <td>-0.36917</td>\n",
       "      <td>0.039494</td>\n",
       "      <td>-0.253363</td>\n",
       "    </tr>\n",
       "    <tr>\n",
       "      <th>0</th>\n",
       "      <td>4</td>\n",
       "      <td>166.0</td>\n",
       "      <td>6</td>\n",
       "      <td>0</td>\n",
       "      <td>1</td>\n",
       "      <td>0</td>\n",
       "      <td>0</td>\n",
       "      <td>1.123826</td>\n",
       "      <td>-0.36917</td>\n",
       "      <td>0.039494</td>\n",
       "      <td>-0.253363</td>\n",
       "    </tr>\n",
       "  </tbody>\n",
       "</table>\n",
       "</div>"
      ],
      "text/plain": [
       "   rolling_6_months  rolling_6_month_ltv  state_label  gender_label  \\\n",
       "0                 0                134.0            6             0   \n",
       "0                 1                228.0            6             0   \n",
       "0                 2                181.0            6             0   \n",
       "0                 3                197.0            6             0   \n",
       "0                 4                166.0            6             0   \n",
       "\n",
       "   is_married_label  promo_group_1_label  promo_group_2_label       age  \\\n",
       "0                 1                    0                    0  1.123826   \n",
       "0                 1                    0                    0  1.123826   \n",
       "0                 1                    0                    0  1.123826   \n",
       "0                 1                    0                    0  1.123826   \n",
       "0                 1                    0                    0  1.123826   \n",
       "\n",
       "    income  customer_loyalty_index  brand_awareness_index  \n",
       "0 -0.36917                0.039494              -0.253363  \n",
       "0 -0.36917                0.039494              -0.253363  \n",
       "0 -0.36917                0.039494              -0.253363  \n",
       "0 -0.36917                0.039494              -0.253363  \n",
       "0 -0.36917                0.039494              -0.253363  "
      ]
     },
     "execution_count": 29,
     "metadata": {},
     "output_type": "execute_result"
    }
   ],
   "source": [
    "#Non-aggregated peaks. Note: customers are the index.\n",
    "feature_table.head()"
   ]
  },
  {
   "cell_type": "markdown",
   "id": "b13a3af0-d65d-451b-935c-9460d4a9f184",
   "metadata": {
    "tags": []
   },
   "source": [
    "## 6. Model Training"
   ]
  },
  {
   "cell_type": "markdown",
   "id": "12776a07-25bd-48cc-a806-8f91417e5b7b",
   "metadata": {
    "tags": []
   },
   "source": [
    "### Gradient Boosting Regression"
   ]
  },
  {
   "cell_type": "code",
   "execution_count": 181,
   "id": "27927da0-6a06-45b1-8682-ded4a3fae72f",
   "metadata": {},
   "outputs": [
    {
     "name": "stdout",
     "output_type": "stream",
     "text": [
      "Help on function _split_data in module process.pipelines.data_science.nodes:\n",
      "\n",
      "_split_data(feature_table: pandas.core.frame.DataFrame, response: str, test_size: float) -> Tuple\n",
      "    Split data into train and test set using scikit learn package.\n",
      "    \n",
      "    Args:\n",
      "        feature_table (pd.DataFrame): standardized feature table\n",
      "        response (str): 6 month rolling ltv\n",
      "        test_size (float): Percentage of test size\n",
      "    \n",
      "    Returns:\n",
      "        Tuple: X_train, X_test, y_train, y_test\n",
      "\n"
     ]
    }
   ],
   "source": [
    "help(ds._split_data)\n",
    "X_train, X_test, y_train, y_test = ds._split_data(feature_table, \"rolling_6_month_ltv\", 0.2)"
   ]
  },
  {
   "cell_type": "markdown",
   "id": "6ae445a4-7f43-422d-a6b8-ffbefa455d8d",
   "metadata": {},
   "source": [
    "Our first model is gradient boosting regression. I choose to use this model for the following reasons:\n",
    "* Ability to optimize on a determined loss function\n",
    "* Tree-based model (doesn't assume linear structures in data)\n",
    "* Industry standard for accuracy and speed"
   ]
  },
  {
   "cell_type": "code",
   "execution_count": 182,
   "id": "8524e5ef-b440-4921-b77c-505160ef21dc",
   "metadata": {},
   "outputs": [
    {
     "name": "stdout",
     "output_type": "stream",
     "text": [
      "Help on function gradientBoostingRegressor in module process.pipelines.data_science.nodes:\n",
      "\n",
      "gradientBoostingRegressor(X_train: pandas.core.frame.DataFrame, X_test: pandas.core.frame.DataFrame, y_train: pandas.core.frame.DataFrame, y_test: pandas.core.frame.DataFrame, n_feat: int) -> Any\n",
      "    Gradient boosting regression model with recursive feature elimination.\n",
      "    \n",
      "    Model Parameters:\n",
      "        n_estimators: 500\n",
      "        max_depth: 4\n",
      "        min_samples_split: 5\n",
      "        learning_rate: 0.01\n",
      "    \n",
      "    Args:\n",
      "        X_train (pd.DataFrame): Feature training set\n",
      "        X_test (pd.DataFrame): Feature test set\n",
      "        y_train (pd.DataFrame): Response training set\n",
      "        y_test (pd.DataFrame): Response testing set\n",
      "        n_feat (int): Top N features to select\n",
      "    \n",
      "    Returns:\n",
      "        GradientBoostingRegressor: scikit learn object\n",
      "        Dict: Model Evaluation Metrics\n",
      "\n",
      "MSE: 9783.0927\n",
      "Explained variance: 0.387\n"
     ]
    },
    {
     "data": {
      "image/png": "[encoded data removed]",
      "text/plain": [
       "<Figure size 432x432 with 1 Axes>"
      ]
     },
     "metadata": {
      "needs_background": "light"
     },
     "output_type": "display_data"
    },
    {
     "data": {
      "image/png": "[encoded data removed]",
      "text/plain": [
       "<Figure size 864x432 with 2 Axes>"
      ]
     },
     "metadata": {
      "needs_background": "light"
     },
     "output_type": "display_data"
    }
   ],
   "source": [
    "help(ds.gradientBoostingRegressor)\n",
    "gradBoostReg, metrics = ds.gradientBoostingRegressor(X_train, X_test, y_train, y_test, 5)"
   ]
  },
  {
   "cell_type": "code",
   "execution_count": 183,
   "id": "d4e3ddca-256a-4db8-9b5c-6a61f8b9c59f",
   "metadata": {},
   "outputs": [
    {
     "data": {
      "text/plain": [
       "{'model': 'Gradient Boost',\n",
       " 'metrics': {'mse': 9783.092693715658,\n",
       "  'explained variance': 0.3872015996374738}}"
      ]
     },
     "execution_count": 183,
     "metadata": {},
     "output_type": "execute_result"
    }
   ],
   "source": [
    "metrics"
   ]
  },
  {
   "cell_type": "markdown",
   "id": "fcf4caa8-7155-48e3-a955-aa06ac7bd982",
   "metadata": {},
   "source": [
    "---\n",
    "\n",
    "Our original feature table contains multiple peaks for customers, this will result in duplicate features. For example here is customer_0:"
   ]
  },
  {
   "cell_type": "code",
   "execution_count": 184,
   "id": "3311c3d7-218e-4fdc-bd10-10cd795d7f19",
   "metadata": {},
   "outputs": [
    {
     "data": {
      "text/html": [
       "<div>\n",
       "<style scoped>\n",
       "    .dataframe tbody tr th:only-of-type {\n",
       "        vertical-align: middle;\n",
       "    }\n",
       "\n",
       "    .dataframe tbody tr th {\n",
       "        vertical-align: top;\n",
       "    }\n",
       "\n",
       "    .dataframe thead th {\n",
       "        text-align: right;\n",
       "    }\n",
       "</style>\n",
       "<table border=\"1\" class=\"dataframe\">\n",
       "  <thead>\n",
       "    <tr style=\"text-align: right;\">\n",
       "      <th></th>\n",
       "      <th>rolling_6_months</th>\n",
       "      <th>rolling_6_month_ltv</th>\n",
       "      <th>state_label</th>\n",
       "      <th>gender_label</th>\n",
       "      <th>is_married_label</th>\n",
       "      <th>promo_group_1_label</th>\n",
       "      <th>promo_group_2_label</th>\n",
       "      <th>age</th>\n",
       "      <th>income</th>\n",
       "      <th>customer_loyalty_index</th>\n",
       "      <th>brand_awareness_index</th>\n",
       "    </tr>\n",
       "  </thead>\n",
       "  <tbody>\n",
       "    <tr>\n",
       "      <th>0</th>\n",
       "      <td>0</td>\n",
       "      <td>134.0</td>\n",
       "      <td>6</td>\n",
       "      <td>0</td>\n",
       "      <td>1</td>\n",
       "      <td>0</td>\n",
       "      <td>0</td>\n",
       "      <td>1.123826</td>\n",
       "      <td>-0.36917</td>\n",
       "      <td>0.039494</td>\n",
       "      <td>-0.253363</td>\n",
       "    </tr>\n",
       "    <tr>\n",
       "      <th>0</th>\n",
       "      <td>1</td>\n",
       "      <td>228.0</td>\n",
       "      <td>6</td>\n",
       "      <td>0</td>\n",
       "      <td>1</td>\n",
       "      <td>0</td>\n",
       "      <td>0</td>\n",
       "      <td>1.123826</td>\n",
       "      <td>-0.36917</td>\n",
       "      <td>0.039494</td>\n",
       "      <td>-0.253363</td>\n",
       "    </tr>\n",
       "    <tr>\n",
       "      <th>0</th>\n",
       "      <td>2</td>\n",
       "      <td>181.0</td>\n",
       "      <td>6</td>\n",
       "      <td>0</td>\n",
       "      <td>1</td>\n",
       "      <td>0</td>\n",
       "      <td>0</td>\n",
       "      <td>1.123826</td>\n",
       "      <td>-0.36917</td>\n",
       "      <td>0.039494</td>\n",
       "      <td>-0.253363</td>\n",
       "    </tr>\n",
       "    <tr>\n",
       "      <th>0</th>\n",
       "      <td>3</td>\n",
       "      <td>197.0</td>\n",
       "      <td>6</td>\n",
       "      <td>0</td>\n",
       "      <td>1</td>\n",
       "      <td>0</td>\n",
       "      <td>0</td>\n",
       "      <td>1.123826</td>\n",
       "      <td>-0.36917</td>\n",
       "      <td>0.039494</td>\n",
       "      <td>-0.253363</td>\n",
       "    </tr>\n",
       "    <tr>\n",
       "      <th>0</th>\n",
       "      <td>4</td>\n",
       "      <td>166.0</td>\n",
       "      <td>6</td>\n",
       "      <td>0</td>\n",
       "      <td>1</td>\n",
       "      <td>0</td>\n",
       "      <td>0</td>\n",
       "      <td>1.123826</td>\n",
       "      <td>-0.36917</td>\n",
       "      <td>0.039494</td>\n",
       "      <td>-0.253363</td>\n",
       "    </tr>\n",
       "  </tbody>\n",
       "</table>\n",
       "</div>"
      ],
      "text/plain": [
       "   rolling_6_months  rolling_6_month_ltv  state_label  gender_label  \\\n",
       "0                 0                134.0            6             0   \n",
       "0                 1                228.0            6             0   \n",
       "0                 2                181.0            6             0   \n",
       "0                 3                197.0            6             0   \n",
       "0                 4                166.0            6             0   \n",
       "\n",
       "   is_married_label  promo_group_1_label  promo_group_2_label       age  \\\n",
       "0                 1                    0                    0  1.123826   \n",
       "0                 1                    0                    0  1.123826   \n",
       "0                 1                    0                    0  1.123826   \n",
       "0                 1                    0                    0  1.123826   \n",
       "0                 1                    0                    0  1.123826   \n",
       "\n",
       "    income  customer_loyalty_index  brand_awareness_index  \n",
       "0 -0.36917                0.039494              -0.253363  \n",
       "0 -0.36917                0.039494              -0.253363  \n",
       "0 -0.36917                0.039494              -0.253363  \n",
       "0 -0.36917                0.039494              -0.253363  \n",
       "0 -0.36917                0.039494              -0.253363  "
      ]
     },
     "execution_count": 184,
     "metadata": {},
     "output_type": "execute_result"
    }
   ],
   "source": [
    "feature_table[feature_table.index==0]"
   ]
  },
  {
   "cell_type": "markdown",
   "id": "8e586cb3-bd20-43ec-8401-a2e8f46288c3",
   "metadata": {},
   "source": [
    "---\n",
    "\n",
    "I want to aggregate the peaks to an average and test how that changes MSE and Explained Variance."
   ]
  },
  {
   "cell_type": "code",
   "execution_count": 185,
   "id": "642405ec-767c-49b9-8188-195a36322bcc",
   "metadata": {},
   "outputs": [],
   "source": [
    "aggregated_peaks = feature_table.groupby(level=0).mean().drop('rolling_6_months', axis = 1)"
   ]
  },
  {
   "cell_type": "code",
   "execution_count": 186,
   "id": "1e51aaa6-a81d-4412-88f5-fd879222c6b6",
   "metadata": {},
   "outputs": [
    {
     "name": "stdout",
     "output_type": "stream",
     "text": [
      "MSE: 7758.4914\n",
      "Explained variance: 0.457\n"
     ]
    },
    {
     "data": {
      "image/png": "[encoded data removed]",
      "text/plain": [
       "<Figure size 432x432 with 1 Axes>"
      ]
     },
     "metadata": {
      "needs_background": "light"
     },
     "output_type": "display_data"
    },
    {
     "data": {
      "image/png": "[encoded data removed]",
      "text/plain": [
       "<Figure size 864x432 with 2 Axes>"
      ]
     },
     "metadata": {
      "needs_background": "light"
     },
     "output_type": "display_data"
    }
   ],
   "source": [
    "X_train, X_test, y_train, y_test = ds._split_data(aggregated_peaks, \"rolling_6_month_ltv\", 0.2)\n",
    "gradBoostRegPeaks, metrics = ds.gradientBoostingRegressor(X_train, X_test, y_train, y_test, 5)"
   ]
  },
  {
   "cell_type": "code",
   "execution_count": 187,
   "id": "75a92282-2d32-47a4-aaed-55c67fd78848",
   "metadata": {},
   "outputs": [
    {
     "data": {
      "text/plain": [
       "{'model': 'Gradient Boost',\n",
       " 'metrics': {'mse': 7758.491354070322,\n",
       "  'explained variance': 0.45734478639100673}}"
      ]
     },
     "execution_count": 187,
     "metadata": {},
     "output_type": "execute_result"
    }
   ],
   "source": [
    "metrics"
   ]
  },
  {
   "cell_type": "markdown",
   "id": "6f544633-2bdb-4a6c-b744-d273fee70d38",
   "metadata": {},
   "source": [
    "The MSE decrease and Explained Variance increases. State and income are much more important to the model post peak aggregation. We did reduce the dataset, therefore might be overfitting."
   ]
  },
  {
   "cell_type": "markdown",
   "id": "8f476231-c4f3-4b88-8c65-d2b4ebfd5e88",
   "metadata": {
    "tags": []
   },
   "source": [
    "### Decision Tree"
   ]
  },
  {
   "cell_type": "code",
   "execution_count": 40,
   "id": "f7dc66e1-9ae0-442c-8cb6-4dc30c834acc",
   "metadata": {},
   "outputs": [],
   "source": [
    "X_train, X_test, y_train, y_test = ds._split_data(feature_table, \"rolling_6_month_ltv\", 0.2)"
   ]
  },
  {
   "cell_type": "code",
   "execution_count": 41,
   "id": "dfce2acc-b63a-4dac-9660-0fc769bdb856",
   "metadata": {},
   "outputs": [
    {
     "name": "stdout",
     "output_type": "stream",
     "text": [
      "Help on function DecisionTree in module process.pipelines.data_science.nodes:\n",
      "\n",
      "DecisionTree(X_train: pandas.core.frame.DataFrame, X_test: pandas.core.frame.DataFrame, y_train: pandas.core.frame.DataFrame, y_test: pandas.core.frame.DataFrame) -> Any\n",
      "    Scikit Learn Decision Tree Regression Model.\n",
      "    \n",
      "    Args:\n",
      "        X_train (pd.DataFrame): Feature training set\n",
      "        X_test (pd.DataFrame): Feature test set\n",
      "        y_train (pd.DataFrame): Response training set\n",
      "        y_test (pd.DataFrame): Response testing set\n",
      "    \n",
      "    Returns:\n",
      "        DecisionTreeRegressor: scikit learn object\n",
      "        Dict: Model Evaluation Metrics\n",
      "\n",
      "Base model with all features ...\n",
      "MSE: 13955.8695\n",
      "Explained variance: 0.126\n"
     ]
    },
    {
     "data": {
      "image/png": "[encoded data removed]",
      "text/plain": [
       "<Figure size 432x288 with 1 Axes>"
      ]
     },
     "metadata": {
      "needs_background": "light"
     },
     "output_type": "display_data"
    }
   ],
   "source": [
    "from process.pipelines.data_science import nodes as ds\n",
    "help(ds.DecisionTree)\n",
    "decisionTree, metrics = ds.DecisionTree(X_train, X_test, y_train, y_test)"
   ]
  },
  {
   "cell_type": "markdown",
   "id": "05f314b8-c60b-4582-acc5-744e3ef3f51e",
   "metadata": {},
   "source": [
    "Decision Tree is less accurate and can't explain the variance very well. The main features in making decision were income and state.\n",
    "\n",
    "---"
   ]
  },
  {
   "cell_type": "markdown",
   "id": "edb91169-b814-4be9-8117-86ba9ec83dc9",
   "metadata": {
    "tags": []
   },
   "source": [
    "---\n",
    "\n",
    "### Causal Graphical Models"
   ]
  },
  {
   "cell_type": "markdown",
   "id": "90ffb5cd-3c4f-4faa-93ec-2182946284af",
   "metadata": {},
   "source": [
    "This analysis will use structural Causal models to determine features that have Causal affects on rolling 6 month lifetime value. \n",
    "The Causal model is built using [DAGs with NO Tears](https://proceedings.neurips.cc/paper/2018/file/e347c51419ffb23ca3fd5050202f9c3d-Paper.pdf) from a pandas dataframe."
   ]
  },
  {
   "cell_type": "code",
   "execution_count": 125,
   "id": "2e08a974-e5a6-4822-b5d5-ffc42dc6d379",
   "metadata": {},
   "outputs": [],
   "source": [
    "from causalnex.structure.notears import from_pandas\n",
    "from IPython.display import Image\n",
    "from causalnex.plots import plot_structure, NODE_STYLE, EDGE_STYLE"
   ]
  },
  {
   "cell_type": "code",
   "execution_count": 126,
   "id": "b3705707-7cc3-49bb-8c04-1349210822cf",
   "metadata": {},
   "outputs": [
    {
     "data": {
      "text/html": [
       "<div>\n",
       "<style scoped>\n",
       "    .dataframe tbody tr th:only-of-type {\n",
       "        vertical-align: middle;\n",
       "    }\n",
       "\n",
       "    .dataframe tbody tr th {\n",
       "        vertical-align: top;\n",
       "    }\n",
       "\n",
       "    .dataframe thead th {\n",
       "        text-align: right;\n",
       "    }\n",
       "</style>\n",
       "<table border=\"1\" class=\"dataframe\">\n",
       "  <thead>\n",
       "    <tr style=\"text-align: right;\">\n",
       "      <th></th>\n",
       "      <th>rolling_6_month_ltv</th>\n",
       "      <th>state_label</th>\n",
       "      <th>gender_label</th>\n",
       "      <th>is_married_label</th>\n",
       "      <th>promo_group_1_label</th>\n",
       "      <th>promo_group_2_label</th>\n",
       "      <th>age</th>\n",
       "      <th>income</th>\n",
       "      <th>customer_loyalty_index</th>\n",
       "      <th>brand_awareness_index</th>\n",
       "    </tr>\n",
       "  </thead>\n",
       "  <tbody>\n",
       "    <tr>\n",
       "      <th>0</th>\n",
       "      <td>181.200000</td>\n",
       "      <td>6.0</td>\n",
       "      <td>0.0</td>\n",
       "      <td>1.0</td>\n",
       "      <td>0.0</td>\n",
       "      <td>0.0</td>\n",
       "      <td>1.123826</td>\n",
       "      <td>-0.369170</td>\n",
       "      <td>0.039494</td>\n",
       "      <td>-0.253363</td>\n",
       "    </tr>\n",
       "    <tr>\n",
       "      <th>1</th>\n",
       "      <td>389.400000</td>\n",
       "      <td>7.0</td>\n",
       "      <td>0.0</td>\n",
       "      <td>1.0</td>\n",
       "      <td>0.0</td>\n",
       "      <td>2.0</td>\n",
       "      <td>-1.045294</td>\n",
       "      <td>-0.919187</td>\n",
       "      <td>-3.448415</td>\n",
       "      <td>-0.316156</td>\n",
       "    </tr>\n",
       "    <tr>\n",
       "      <th>2</th>\n",
       "      <td>73.000000</td>\n",
       "      <td>5.0</td>\n",
       "      <td>0.0</td>\n",
       "      <td>1.0</td>\n",
       "      <td>2.0</td>\n",
       "      <td>0.0</td>\n",
       "      <td>0.610087</td>\n",
       "      <td>0.330852</td>\n",
       "      <td>0.000000</td>\n",
       "      <td>0.000000</td>\n",
       "    </tr>\n",
       "    <tr>\n",
       "      <th>3</th>\n",
       "      <td>60.000000</td>\n",
       "      <td>4.0</td>\n",
       "      <td>0.0</td>\n",
       "      <td>0.0</td>\n",
       "      <td>1.0</td>\n",
       "      <td>2.0</td>\n",
       "      <td>-1.501951</td>\n",
       "      <td>-0.294167</td>\n",
       "      <td>0.105614</td>\n",
       "      <td>-0.315410</td>\n",
       "    </tr>\n",
       "    <tr>\n",
       "      <th>4</th>\n",
       "      <td>76.666667</td>\n",
       "      <td>0.0</td>\n",
       "      <td>0.0</td>\n",
       "      <td>0.0</td>\n",
       "      <td>0.0</td>\n",
       "      <td>1.0</td>\n",
       "      <td>-0.189062</td>\n",
       "      <td>-1.369201</td>\n",
       "      <td>0.516192</td>\n",
       "      <td>-0.316156</td>\n",
       "    </tr>\n",
       "  </tbody>\n",
       "</table>\n",
       "</div>"
      ],
      "text/plain": [
       "   rolling_6_month_ltv  state_label  gender_label  is_married_label  \\\n",
       "0           181.200000          6.0           0.0               1.0   \n",
       "1           389.400000          7.0           0.0               1.0   \n",
       "2            73.000000          5.0           0.0               1.0   \n",
       "3            60.000000          4.0           0.0               0.0   \n",
       "4            76.666667          0.0           0.0               0.0   \n",
       "\n",
       "   promo_group_1_label  promo_group_2_label       age    income  \\\n",
       "0                  0.0                  0.0  1.123826 -0.369170   \n",
       "1                  0.0                  2.0 -1.045294 -0.919187   \n",
       "2                  2.0                  0.0  0.610087  0.330852   \n",
       "3                  1.0                  2.0 -1.501951 -0.294167   \n",
       "4                  0.0                  1.0 -0.189062 -1.369201   \n",
       "\n",
       "   customer_loyalty_index  brand_awareness_index  \n",
       "0                0.039494              -0.253363  \n",
       "1               -3.448415              -0.316156  \n",
       "2                0.000000               0.000000  \n",
       "3                0.105614              -0.315410  \n",
       "4                0.516192              -0.316156  "
      ]
     },
     "execution_count": 126,
     "metadata": {},
     "output_type": "execute_result"
    }
   ],
   "source": [
    "aggregated_peaks.head()"
   ]
  },
  {
   "cell_type": "code",
   "execution_count": 127,
   "id": "ee75adb8-4c81-4159-83b1-49cbbfbf5b11",
   "metadata": {},
   "outputs": [
    {
     "name": "stdout",
     "output_type": "stream",
     "text": [
      "2021-12-06 19:20:34,430 - root - INFO - Learning structure using 'NOTEARS' optimisation.\n"
     ]
    },
    {
     "name": "stderr",
     "output_type": "stream",
     "text": [
      "/home/ubuntu/ltv_model/venv/lib/python3.8/site-packages/networkx/convert_matrix.py:680: DeprecationWarning: from_numpy_matrix is deprecated and will be removed in NetworkX 3.0.\n",
      "Use from_numpy_array instead, e.g. from_numpy_array(A, **kwargs)\n",
      "  warnings.warn(\n"
     ]
    }
   ],
   "source": [
    "sm = from_pandas(aggregated_peaks)"
   ]
  },
  {
   "cell_type": "code",
   "execution_count": 128,
   "id": "78373c8c-9b16-425b-879f-e354cefa4085",
   "metadata": {},
   "outputs": [
    {
     "name": "stderr",
     "output_type": "stream",
     "text": [
      "/home/ubuntu/ltv_model/venv/lib/python3.8/site-packages/pygraphviz/agraph.py:1390: RuntimeWarning: Warning: node 'rolling_6_month_ltv', graph '' size too small for label\n",
      "Warning: node 'state_label', graph '' size too small for label\n",
      "Warning: node 'gender_label', graph '' size too small for label\n",
      "Warning: node 'is_married_label', graph '' size too small for label\n",
      "Warning: node 'promo_group_1_label', graph '' size too small for label\n",
      "Warning: node 'promo_group_2_label', graph '' size too small for label\n",
      "Warning: node 'age', graph '' size too small for label\n",
      "Warning: node 'income', graph '' size too small for label\n",
      "Warning: node 'customer_loyalty_index', graph '' size too small for label\n",
      "Warning: node 'brand_awareness_index', graph '' size too small for label\n",
      "\n",
      "  warnings.warn(b\"\".join(errors).decode(self.encoding), RuntimeWarning)\n"
     ]
    },
    {
     "data": {
      "image/png": "[encoded data removed]",
      "text/plain": [
       "<IPython.core.display.Image object>"
      ]
     },
     "execution_count": 128,
     "metadata": {},
     "output_type": "execute_result"
    }
   ],
   "source": [
    "#Remove weak edges\n",
    "sm.remove_edges_below_threshold(0.9)\n",
    "viz = plot_structure(\n",
    "    sm,\n",
    "    graph_attributes={\"scale\": \"1.5\"},\n",
    "    all_node_attributes=NODE_STYLE.WEAK,\n",
    "    all_edge_attributes=EDGE_STYLE.WEAK,\n",
    ")\n",
    "Image(viz.draw(format='png'))"
   ]
  },
  {
   "cell_type": "markdown",
   "id": "ac04e642-e7e8-4f1d-ae5b-8e150324edce",
   "metadata": {},
   "source": [
    "__Key Takeaways:__\n",
    "- Age, Gender, Income, Promo Group (1 and 2), State, and Marriage Status all have Causal affects on Rolling 6 Month LTV.\n",
    "- Brand Awareness and Customer Loyalty do not affect Rolling 6 Month LTV.\n",
    "- Gender, Promo Group (1 and 2), and Marriage Status also have Causal affects on State."
   ]
  },
  {
   "cell_type": "code",
   "execution_count": 129,
   "id": "ec54aa3f-2b69-4938-8e5a-c0515811f626",
   "metadata": {},
   "outputs": [],
   "source": [
    "#We can remove unused nodes.\n",
    "sm.remove_node('customer_loyalty_index')\n",
    "sm.remove_node('brand_awareness_index')"
   ]
  },
  {
   "cell_type": "markdown",
   "id": "8948a116-3b74-408f-b2fb-9e6dbd0c59cd",
   "metadata": {
    "tags": []
   },
   "source": [
    "---\n",
    "\n",
    "### Bayesian Networks"
   ]
  },
  {
   "cell_type": "markdown",
   "id": "db49fa38-0d9b-4f1d-a611-a02f5a0113ee",
   "metadata": {},
   "source": [
    "To make predictions from our Causal network we need to transform it into a discrete Conditional Probability Distribution between variables (i.e. Bayesian Network)."
   ]
  },
  {
   "cell_type": "code",
   "execution_count": 130,
   "id": "39b2cba5-55ad-4063-babd-d54219c63a02",
   "metadata": {},
   "outputs": [
    {
     "name": "stderr",
     "output_type": "stream",
     "text": [
      "/home/ubuntu/ltv_model/venv/lib/python3.8/site-packages/pgmpy/models/BayesianModel.py:8: FutureWarning: BayesianModel has been renamed to BayesianNetwork. Please use BayesianNewtork class, BayesianModel will be removed in future.\n",
      "  warnings.warn(\n"
     ]
    }
   ],
   "source": [
    "from causalnex.network import BayesianNetwork\n",
    "bn = BayesianNetwork(sm)"
   ]
  },
  {
   "cell_type": "markdown",
   "id": "fcb70b3a-dad8-4911-af8b-fdd9f4533206",
   "metadata": {},
   "source": [
    "It's important to discretize our dataframe otherwise we will have a combinatorial explosion"
   ]
  },
  {
   "cell_type": "code",
   "execution_count": 298,
   "id": "86f7642b-9a0a-4eea-9e97-a817eb6a09a3",
   "metadata": {},
   "outputs": [],
   "source": [
    "discretised_data = dp.discretiser(aggregated_peaks)"
   ]
  },
  {
   "cell_type": "code",
   "execution_count": 149,
   "id": "a8b5d071-70f7-43d8-b22f-ff8a206819a9",
   "metadata": {},
   "outputs": [],
   "source": [
    "from sklearn.model_selection import train_test_split\n",
    "train, test = train_test_split(discretised_data, train_size=0.9, test_size=0.1, random_state=7)"
   ]
  },
  {
   "cell_type": "markdown",
   "id": "8604d4c3-d7f5-4a8e-ab71-0c6b772d6680",
   "metadata": {},
   "source": [
    "Next we will fit our discrete data into a conditional probability density albeit discrete distributions."
   ]
  },
  {
   "cell_type": "code",
   "execution_count": 150,
   "id": "e9fc17ef-f4da-4b31-a838-493e7182ec0f",
   "metadata": {},
   "outputs": [],
   "source": [
    "bn = bn.fit_node_states(discretised_data)\n",
    "bn = bn.fit_cpds(train, method=\"BayesianEstimator\", bayes_prior=\"K2\")"
   ]
  },
  {
   "cell_type": "markdown",
   "id": "0bbc75fc-95ed-4266-bd44-0dbd65213bea",
   "metadata": {},
   "source": [
    "We can make predictions on our main data set."
   ]
  },
  {
   "cell_type": "code",
   "execution_count": 161,
   "id": "431fd5b6-ab68-433a-b8fc-929dba2c482c",
   "metadata": {},
   "outputs": [
    {
     "data": {
      "text/html": [
       "<div>\n",
       "<style scoped>\n",
       "    .dataframe tbody tr th:only-of-type {\n",
       "        vertical-align: middle;\n",
       "    }\n",
       "\n",
       "    .dataframe tbody tr th {\n",
       "        vertical-align: top;\n",
       "    }\n",
       "\n",
       "    .dataframe thead th {\n",
       "        text-align: right;\n",
       "    }\n",
       "</style>\n",
       "<table border=\"1\" class=\"dataframe\">\n",
       "  <thead>\n",
       "    <tr style=\"text-align: right;\">\n",
       "      <th></th>\n",
       "      <th>rolling_6_month_ltv_prediction</th>\n",
       "    </tr>\n",
       "  </thead>\n",
       "  <tbody>\n",
       "    <tr>\n",
       "      <th>0</th>\n",
       "      <td>8</td>\n",
       "    </tr>\n",
       "    <tr>\n",
       "      <th>1</th>\n",
       "      <td>8</td>\n",
       "    </tr>\n",
       "    <tr>\n",
       "      <th>2</th>\n",
       "      <td>4</td>\n",
       "    </tr>\n",
       "    <tr>\n",
       "      <th>3</th>\n",
       "      <td>5</td>\n",
       "    </tr>\n",
       "    <tr>\n",
       "      <th>4</th>\n",
       "      <td>5</td>\n",
       "    </tr>\n",
       "  </tbody>\n",
       "</table>\n",
       "</div>"
      ],
      "text/plain": [
       "   rolling_6_month_ltv_prediction\n",
       "0                               8\n",
       "1                               8\n",
       "2                               4\n",
       "3                               5\n",
       "4                               5"
      ]
     },
     "execution_count": 161,
     "metadata": {},
     "output_type": "execute_result"
    }
   ],
   "source": [
    "predictions = bn.predict(discretised_data, \"rolling_6_month_ltv\")\n",
    "predictions.head()"
   ]
  },
  {
   "cell_type": "markdown",
   "id": "d7cc78b3-9986-42aa-9538-9bd2c689ea16",
   "metadata": {},
   "source": [
    "We need to convert our bins back into the nominal LTV values."
   ]
  },
  {
   "cell_type": "code",
   "execution_count": 212,
   "id": "77160f1f-43c5-4ab8-9c79-85865badaf8d",
   "metadata": {},
   "outputs": [
    {
     "data": {
      "text/html": [
       "<div>\n",
       "<style scoped>\n",
       "    .dataframe tbody tr th:only-of-type {\n",
       "        vertical-align: middle;\n",
       "    }\n",
       "\n",
       "    .dataframe tbody tr th {\n",
       "        vertical-align: top;\n",
       "    }\n",
       "\n",
       "    .dataframe thead th {\n",
       "        text-align: right;\n",
       "    }\n",
       "</style>\n",
       "<table border=\"1\" class=\"dataframe\">\n",
       "  <thead>\n",
       "    <tr style=\"text-align: right;\">\n",
       "      <th></th>\n",
       "      <th>rolling_6_month_ltv_prediction</th>\n",
       "      <th>nominal_ltv_prediction</th>\n",
       "      <th>bayes_ltv_prediction</th>\n",
       "    </tr>\n",
       "  </thead>\n",
       "  <tbody>\n",
       "    <tr>\n",
       "      <th>0</th>\n",
       "      <td>8</td>\n",
       "      <td>212.000</td>\n",
       "      <td>212.000</td>\n",
       "    </tr>\n",
       "    <tr>\n",
       "      <th>1</th>\n",
       "      <td>8</td>\n",
       "      <td>212.000</td>\n",
       "      <td>212.000</td>\n",
       "    </tr>\n",
       "    <tr>\n",
       "      <th>2</th>\n",
       "      <td>4</td>\n",
       "      <td>50.775</td>\n",
       "      <td>50.775</td>\n",
       "    </tr>\n",
       "    <tr>\n",
       "      <th>3</th>\n",
       "      <td>5</td>\n",
       "      <td>70.000</td>\n",
       "      <td>70.000</td>\n",
       "    </tr>\n",
       "    <tr>\n",
       "      <th>4</th>\n",
       "      <td>5</td>\n",
       "      <td>70.000</td>\n",
       "      <td>70.000</td>\n",
       "    </tr>\n",
       "  </tbody>\n",
       "</table>\n",
       "</div>"
      ],
      "text/plain": [
       "   rolling_6_month_ltv_prediction  nominal_ltv_prediction  \\\n",
       "0                               8                 212.000   \n",
       "1                               8                 212.000   \n",
       "2                               4                  50.775   \n",
       "3                               5                  70.000   \n",
       "4                               5                  70.000   \n",
       "\n",
       "   bayes_ltv_prediction  \n",
       "0               212.000  \n",
       "1               212.000  \n",
       "2                50.775  \n",
       "3                70.000  \n",
       "4                70.000  "
      ]
     },
     "execution_count": 212,
     "metadata": {},
     "output_type": "execute_result"
    }
   ],
   "source": [
    "pred_map = dict(zip(predictions['rolling_6_month_ltv_prediction'].sort_values().unique(), [aggregated_peaks['rolling_6_month_ltv'].quantile(i) for i in np.arange(.1, 1., .1)]))\n",
    "predictions['bayes_ltv_prediction'] = predictions['rolling_6_month_ltv_prediction'].replace(pred_map)\n",
    "predictions.head()"
   ]
  },
  {
   "cell_type": "code",
   "execution_count": 174,
   "id": "e9e1f0ae-c38c-4ee1-b836-a2a39e74a8d5",
   "metadata": {},
   "outputs": [],
   "source": [
    "from causalnex.evaluation import classification_report\n",
    "classification_evaluation = pd.DataFrame(classification_report(bn, test, \"rolling_6_month_ltv\"))"
   ]
  },
  {
   "cell_type": "code",
   "execution_count": 177,
   "id": "3f360c97-efb5-4319-9b13-86c793013cd0",
   "metadata": {},
   "outputs": [
    {
     "data": {
      "text/html": [
       "<div>\n",
       "<style scoped>\n",
       "    .dataframe tbody tr th:only-of-type {\n",
       "        vertical-align: middle;\n",
       "    }\n",
       "\n",
       "    .dataframe tbody tr th {\n",
       "        vertical-align: top;\n",
       "    }\n",
       "\n",
       "    .dataframe thead th {\n",
       "        text-align: right;\n",
       "    }\n",
       "</style>\n",
       "<table border=\"1\" class=\"dataframe\">\n",
       "  <thead>\n",
       "    <tr style=\"text-align: right;\">\n",
       "      <th></th>\n",
       "      <th>rolling_6_month_ltv_0</th>\n",
       "      <th>rolling_6_month_ltv_1</th>\n",
       "      <th>rolling_6_month_ltv_2</th>\n",
       "      <th>rolling_6_month_ltv_3</th>\n",
       "      <th>rolling_6_month_ltv_4</th>\n",
       "      <th>rolling_6_month_ltv_5</th>\n",
       "      <th>rolling_6_month_ltv_6</th>\n",
       "      <th>rolling_6_month_ltv_7</th>\n",
       "      <th>rolling_6_month_ltv_8</th>\n",
       "      <th>rolling_6_month_ltv_9</th>\n",
       "      <th>accuracy</th>\n",
       "      <th>macro avg</th>\n",
       "      <th>weighted avg</th>\n",
       "    </tr>\n",
       "  </thead>\n",
       "  <tbody>\n",
       "    <tr>\n",
       "      <th>precision</th>\n",
       "      <td>0.137794</td>\n",
       "      <td>0.159780</td>\n",
       "      <td>0.127234</td>\n",
       "      <td>0.105660</td>\n",
       "      <td>0.126304</td>\n",
       "      <td>0.124043</td>\n",
       "      <td>0.145092</td>\n",
       "      <td>0.164456</td>\n",
       "      <td>0.283267</td>\n",
       "      <td>0.338323</td>\n",
       "      <td>0.1617</td>\n",
       "      <td>0.171195</td>\n",
       "      <td>0.171040</td>\n",
       "    </tr>\n",
       "    <tr>\n",
       "      <th>recall</th>\n",
       "      <td>0.397289</td>\n",
       "      <td>0.174174</td>\n",
       "      <td>0.122718</td>\n",
       "      <td>0.085453</td>\n",
       "      <td>0.102060</td>\n",
       "      <td>0.084463</td>\n",
       "      <td>0.098646</td>\n",
       "      <td>0.121927</td>\n",
       "      <td>0.208535</td>\n",
       "      <td>0.234440</td>\n",
       "      <td>0.1617</td>\n",
       "      <td>0.162971</td>\n",
       "      <td>0.161700</td>\n",
       "    </tr>\n",
       "    <tr>\n",
       "      <th>f1-score</th>\n",
       "      <td>0.204619</td>\n",
       "      <td>0.166667</td>\n",
       "      <td>0.124935</td>\n",
       "      <td>0.094488</td>\n",
       "      <td>0.112895</td>\n",
       "      <td>0.100496</td>\n",
       "      <td>0.117444</td>\n",
       "      <td>0.140034</td>\n",
       "      <td>0.240223</td>\n",
       "      <td>0.276961</td>\n",
       "      <td>0.1617</td>\n",
       "      <td>0.157876</td>\n",
       "      <td>0.157426</td>\n",
       "    </tr>\n",
       "    <tr>\n",
       "      <th>support</th>\n",
       "      <td>959.000000</td>\n",
       "      <td>999.000000</td>\n",
       "      <td>986.000000</td>\n",
       "      <td>983.000000</td>\n",
       "      <td>1068.000000</td>\n",
       "      <td>959.000000</td>\n",
       "      <td>1034.000000</td>\n",
       "      <td>1017.000000</td>\n",
       "      <td>1031.000000</td>\n",
       "      <td>964.000000</td>\n",
       "      <td>0.1617</td>\n",
       "      <td>10000.000000</td>\n",
       "      <td>10000.000000</td>\n",
       "    </tr>\n",
       "  </tbody>\n",
       "</table>\n",
       "</div>"
      ],
      "text/plain": [
       "           rolling_6_month_ltv_0  rolling_6_month_ltv_1  \\\n",
       "precision               0.137794               0.159780   \n",
       "recall                  0.397289               0.174174   \n",
       "f1-score                0.204619               0.166667   \n",
       "support               959.000000             999.000000   \n",
       "\n",
       "           rolling_6_month_ltv_2  rolling_6_month_ltv_3  \\\n",
       "precision               0.127234               0.105660   \n",
       "recall                  0.122718               0.085453   \n",
       "f1-score                0.124935               0.094488   \n",
       "support               986.000000             983.000000   \n",
       "\n",
       "           rolling_6_month_ltv_4  rolling_6_month_ltv_5  \\\n",
       "precision               0.126304               0.124043   \n",
       "recall                  0.102060               0.084463   \n",
       "f1-score                0.112895               0.100496   \n",
       "support              1068.000000             959.000000   \n",
       "\n",
       "           rolling_6_month_ltv_6  rolling_6_month_ltv_7  \\\n",
       "precision               0.145092               0.164456   \n",
       "recall                  0.098646               0.121927   \n",
       "f1-score                0.117444               0.140034   \n",
       "support              1034.000000            1017.000000   \n",
       "\n",
       "           rolling_6_month_ltv_8  rolling_6_month_ltv_9  accuracy  \\\n",
       "precision               0.283267               0.338323    0.1617   \n",
       "recall                  0.208535               0.234440    0.1617   \n",
       "f1-score                0.240223               0.276961    0.1617   \n",
       "support              1031.000000             964.000000    0.1617   \n",
       "\n",
       "              macro avg  weighted avg  \n",
       "precision      0.171195      0.171040  \n",
       "recall         0.162971      0.161700  \n",
       "f1-score       0.157876      0.157426  \n",
       "support    10000.000000  10000.000000  "
      ]
     },
     "execution_count": 177,
     "metadata": {},
     "output_type": "execute_result"
    }
   ],
   "source": [
    "classification_evaluation"
   ]
  },
  {
   "cell_type": "markdown",
   "id": "94e28ec3-bcfc-44e3-84aa-01a664f37a7b",
   "metadata": {},
   "source": [
    "We can also view marginal probabilities for each factors in our conditional probability distribution. In this case all of our bins have an equal "
   ]
  },
  {
   "cell_type": "code",
   "execution_count": 155,
   "id": "8f04f1a0-52c1-4956-85ed-07abe5b50dd1",
   "metadata": {},
   "outputs": [
    {
     "data": {
      "text/plain": [
       "{0: 0.1012374693799195,\n",
       " 1: 0.10190021800878164,\n",
       " 2: 0.10157976645403961,\n",
       " 3: 0.10000114418918167,\n",
       " 4: 0.10105624133352802,\n",
       " 5: 0.09948997913515162,\n",
       " 6: 0.09922850362029356,\n",
       " 7: 0.09900999891735206,\n",
       " 8: 0.09857231555619365,\n",
       " 9: 0.09792436340554879}"
      ]
     },
     "execution_count": 155,
     "metadata": {},
     "output_type": "execute_result"
    }
   ],
   "source": [
    "from causalnex.inference import InferenceEngine\n",
    "ie = InferenceEngine(bn)\n",
    "marginals = ie.query()\n",
    "marginals[\"rolling_6_month_ltv\"]"
   ]
  },
  {
   "cell_type": "markdown",
   "id": "002661b3-fa87-4be6-b29b-5946b021376d",
   "metadata": {
    "tags": []
   },
   "source": [
    "## 7. Model Evaluation"
   ]
  },
  {
   "cell_type": "markdown",
   "id": "9fad743d-c097-40b8-bda9-a99daad1b1ba",
   "metadata": {},
   "source": [
    "We trained 3 distinct models:\n",
    "- Gradient boosting regression\n",
    "    - Gradient boosting preformed the best when compared against Decision tree (based on MSE and explained variance). \n",
    "    - The most important features to the model were State, Income, Age, and Marriage.\n",
    "    - The algorithm hits an optimal number of estimators around 200-300 iterations.\n",
    "- Decision tree\n",
    "    - The decision tree preformed worse compared to gradient boosting. \n",
    "    - The main features in the decision making process were Income then State.\n",
    "- Bayesian network (built from Causal graph)\n",
    "    - Age, Gender, Income, Promo Group (1 and 2), State, and Marriage Status all have Causal affects on Rolling 6 Month LTV.\n",
    "    - Brand Awareness and Customer Loyalty do not affect Rolling 6 Month LTV.\n",
    "    - Gender, Promo Group (1 and 2), and Marriage Status also have Causal affects on State.\n",
    "    - Classifcation report shows poor accuracy levels (16%)\n",
    "    - Marginal probabilities show an uniform distribution of likelihood for the classes"
   ]
  },
  {
   "cell_type": "markdown",
   "id": "733b469c-f579-4c16-8bb2-98aa8c9902bc",
   "metadata": {},
   "source": [
    "State was a common theme of predictive power. The rolling 6 month ltv by state has a stark distribution:"
   ]
  },
  {
   "cell_type": "code",
   "execution_count": 40,
   "id": "98f42bfe-cf93-440e-8411-f05b54815e96",
   "metadata": {},
   "outputs": [
    {
     "data": {
      "text/html": [
       "<div>\n",
       "<style scoped>\n",
       "    .dataframe tbody tr th:only-of-type {\n",
       "        vertical-align: middle;\n",
       "    }\n",
       "\n",
       "    .dataframe tbody tr th {\n",
       "        vertical-align: top;\n",
       "    }\n",
       "\n",
       "    .dataframe thead th {\n",
       "        text-align: right;\n",
       "    }\n",
       "</style>\n",
       "<table border=\"1\" class=\"dataframe\">\n",
       "  <thead>\n",
       "    <tr style=\"text-align: right;\">\n",
       "      <th></th>\n",
       "      <th>state</th>\n",
       "      <th>age</th>\n",
       "      <th>gender</th>\n",
       "      <th>income</th>\n",
       "      <th>is_married</th>\n",
       "      <th>promo_group_1</th>\n",
       "      <th>promo_group_2</th>\n",
       "      <th>customer_loyalty_index</th>\n",
       "      <th>brand_awareness_index</th>\n",
       "      <th>state_label</th>\n",
       "      <th>gender_label</th>\n",
       "      <th>is_married_label</th>\n",
       "      <th>promo_group_1_label</th>\n",
       "      <th>promo_group_2_label</th>\n",
       "      <th>rolling_6_month_ltv</th>\n",
       "    </tr>\n",
       "    <tr>\n",
       "      <th>customer_id</th>\n",
       "      <th></th>\n",
       "      <th></th>\n",
       "      <th></th>\n",
       "      <th></th>\n",
       "      <th></th>\n",
       "      <th></th>\n",
       "      <th></th>\n",
       "      <th></th>\n",
       "      <th></th>\n",
       "      <th></th>\n",
       "      <th></th>\n",
       "      <th></th>\n",
       "      <th></th>\n",
       "      <th></th>\n",
       "      <th></th>\n",
       "    </tr>\n",
       "  </thead>\n",
       "  <tbody>\n",
       "    <tr>\n",
       "      <th>0</th>\n",
       "      <td>NJ</td>\n",
       "      <td>64</td>\n",
       "      <td>Female</td>\n",
       "      <td>65000.0</td>\n",
       "      <td>Y</td>\n",
       "      <td>A</td>\n",
       "      <td>X</td>\n",
       "      <td>0.058849</td>\n",
       "      <td>1.969644e-01</td>\n",
       "      <td>6</td>\n",
       "      <td>0</td>\n",
       "      <td>1</td>\n",
       "      <td>0</td>\n",
       "      <td>0</td>\n",
       "      <td>181.200000</td>\n",
       "    </tr>\n",
       "    <tr>\n",
       "      <th>1</th>\n",
       "      <td>NY</td>\n",
       "      <td>26</td>\n",
       "      <td>Female</td>\n",
       "      <td>43000.0</td>\n",
       "      <td>Y</td>\n",
       "      <td>A</td>\n",
       "      <td>Z</td>\n",
       "      <td>-4.872865</td>\n",
       "      <td>2.970386e-14</td>\n",
       "      <td>7</td>\n",
       "      <td>0</td>\n",
       "      <td>1</td>\n",
       "      <td>0</td>\n",
       "      <td>2</td>\n",
       "      <td>389.400000</td>\n",
       "    </tr>\n",
       "    <tr>\n",
       "      <th>2</th>\n",
       "      <td>NH</td>\n",
       "      <td>55</td>\n",
       "      <td>Female</td>\n",
       "      <td>93000.0</td>\n",
       "      <td>Y</td>\n",
       "      <td>C</td>\n",
       "      <td>X</td>\n",
       "      <td>NaN</td>\n",
       "      <td>NaN</td>\n",
       "      <td>5</td>\n",
       "      <td>0</td>\n",
       "      <td>1</td>\n",
       "      <td>2</td>\n",
       "      <td>0</td>\n",
       "      <td>73.000000</td>\n",
       "    </tr>\n",
       "    <tr>\n",
       "      <th>3</th>\n",
       "      <td>ME</td>\n",
       "      <td>18</td>\n",
       "      <td>Female</td>\n",
       "      <td>68000.0</td>\n",
       "      <td>N</td>\n",
       "      <td>B</td>\n",
       "      <td>Z</td>\n",
       "      <td>0.152339</td>\n",
       "      <td>2.341961e-03</td>\n",
       "      <td>4</td>\n",
       "      <td>0</td>\n",
       "      <td>0</td>\n",
       "      <td>1</td>\n",
       "      <td>2</td>\n",
       "      <td>60.000000</td>\n",
       "    </tr>\n",
       "    <tr>\n",
       "      <th>4</th>\n",
       "      <td>CA</td>\n",
       "      <td>41</td>\n",
       "      <td>Female</td>\n",
       "      <td>25000.0</td>\n",
       "      <td>N</td>\n",
       "      <td>A</td>\n",
       "      <td>Y</td>\n",
       "      <td>0.732875</td>\n",
       "      <td>8.073341e-14</td>\n",
       "      <td>0</td>\n",
       "      <td>0</td>\n",
       "      <td>0</td>\n",
       "      <td>0</td>\n",
       "      <td>1</td>\n",
       "      <td>76.666667</td>\n",
       "    </tr>\n",
       "  </tbody>\n",
       "</table>\n",
       "</div>"
      ],
      "text/plain": [
       "            state  age  gender   income is_married promo_group_1  \\\n",
       "customer_id                                                        \n",
       "0              NJ   64  Female  65000.0          Y             A   \n",
       "1              NY   26  Female  43000.0          Y             A   \n",
       "2              NH   55  Female  93000.0          Y             C   \n",
       "3              ME   18  Female  68000.0          N             B   \n",
       "4              CA   41  Female  25000.0          N             A   \n",
       "\n",
       "            promo_group_2  customer_loyalty_index  brand_awareness_index  \\\n",
       "customer_id                                                                \n",
       "0                       X                0.058849           1.969644e-01   \n",
       "1                       Z               -4.872865           2.970386e-14   \n",
       "2                       X                     NaN                    NaN   \n",
       "3                       Z                0.152339           2.341961e-03   \n",
       "4                       Y                0.732875           8.073341e-14   \n",
       "\n",
       "             state_label  gender_label  is_married_label  promo_group_1_label  \\\n",
       "customer_id                                                                     \n",
       "0                      6             0                 1                    0   \n",
       "1                      7             0                 1                    0   \n",
       "2                      5             0                 1                    2   \n",
       "3                      4             0                 0                    1   \n",
       "4                      0             0                 0                    0   \n",
       "\n",
       "             promo_group_2_label  rolling_6_month_ltv  \n",
       "customer_id                                            \n",
       "0                              0           181.200000  \n",
       "1                              2           389.400000  \n",
       "2                              0            73.000000  \n",
       "3                              2            60.000000  \n",
       "4                              1            76.666667  "
      ]
     },
     "execution_count": 40,
     "metadata": {},
     "output_type": "execute_result"
    }
   ],
   "source": [
    "state_value = pd.merge(customers, response.groupby(level=0).rolling_6_month_ltv.mean(), on = 'customer_id')\n",
    "state_value.head()"
   ]
  },
  {
   "cell_type": "code",
   "execution_count": 41,
   "id": "43349d6c-a79c-4599-8f97-637f0878518b",
   "metadata": {},
   "outputs": [
    {
     "data": {
      "text/plain": [
       "state\n",
       "FL       27.838376\n",
       "GA       29.359741\n",
       "TX       35.423522\n",
       "NH       45.149158\n",
       "ME       62.558968\n",
       "None     89.455342\n",
       "NJ       91.063734\n",
       "CA      165.829602\n",
       "NY      175.520381\n",
       "MA      176.848670\n",
       "Name: rolling_6_month_ltv, dtype: float64"
      ]
     },
     "execution_count": 41,
     "metadata": {},
     "output_type": "execute_result"
    }
   ],
   "source": [
    "state_value.groupby('state').rolling_6_month_ltv.mean().sort_values()"
   ]
  },
  {
   "cell_type": "markdown",
   "id": "1c111a39-d631-4454-b824-c80a1d8c5dbc",
   "metadata": {},
   "source": [
    "## 8. Inference"
   ]
  },
  {
   "cell_type": "markdown",
   "id": "3f5047fc-b4c6-48e4-926e-09a682c24e5b",
   "metadata": {},
   "source": [
    "Our goal for inference is to provide a 6 month LTV value prediction. We have 4 model outputs (gradBoostReg_pred, decisionTree_pred, gradBoostRegPeaks_pred, bayes_ltv_prediction).\n",
    "\n",
    "The decision tree has a very uninformative predictions distribution and I decided to exclude it from our predictions dataframe. Finally I aggregated gradBoostReg_pred, gradBoostRegPeaks_pred, and bayes_ltv_prediction on a weighted average. The reason being the bayesian network preformed poorly on the classification report."
   ]
  },
  {
   "cell_type": "code",
   "execution_count": 254,
   "id": "c7bd9bf0-2402-4cc8-bc77-194b7a5a57a0",
   "metadata": {},
   "outputs": [],
   "source": [
    "last_purchase = transactions.groupby('customer_id')['transaction_value'].last()\n",
    "feature_table['gradBoostReg_pred'] = gradBoostReg.predict(feature_table[[\"state_label\", \"income\", \"is_married_label\", \"age\"]])\n",
    "feature_table['decisionTree_pred'] = decisionTree.predict(feature_table[[i for i in list(feature_table) if 'rolling_6_month_ltv' not in i and 'pred' not in i]])\n",
    "non_agg_peak_preds = feature_table.groupby(level=0)[['gradBoostReg_pred','decisionTree_pred']].mean()\n",
    "aggregated_peaks['gradBoostRegPeaks_pred'] = gradBoostRegPeaks.predict(aggregated_peaks[[\"state_label\", \"income\", \"is_married_label\", \"age\"]])\n",
    "\n",
    "inference = pd.concat([non_agg_peak_preds, aggregated_peaks['gradBoostRegPeaks_pred'], predictions['bayes_ltv_prediction']], axis = 1)"
   ]
  },
  {
   "cell_type": "code",
   "execution_count": 286,
   "id": "638adc7d-5844-4b07-a480-af81e4bc1a1b",
   "metadata": {},
   "outputs": [
    {
     "data": {
      "text/html": [
       "<div>\n",
       "<style scoped>\n",
       "    .dataframe tbody tr th:only-of-type {\n",
       "        vertical-align: middle;\n",
       "    }\n",
       "\n",
       "    .dataframe tbody tr th {\n",
       "        vertical-align: top;\n",
       "    }\n",
       "\n",
       "    .dataframe thead th {\n",
       "        text-align: right;\n",
       "    }\n",
       "</style>\n",
       "<table border=\"1\" class=\"dataframe\">\n",
       "  <thead>\n",
       "    <tr style=\"text-align: right;\">\n",
       "      <th></th>\n",
       "      <th>gradBoostReg_pred</th>\n",
       "      <th>gradBoostRegPeaks_pred</th>\n",
       "      <th>bayes_ltv_prediction</th>\n",
       "      <th>Expected LTV (Next 6 Months)</th>\n",
       "      <th>Historical Avg 6 Months LTV</th>\n",
       "      <th>postive_prediction</th>\n",
       "    </tr>\n",
       "  </thead>\n",
       "  <tbody>\n",
       "    <tr>\n",
       "      <th>0</th>\n",
       "      <td>61.676874</td>\n",
       "      <td>57.235831</td>\n",
       "      <td>212.000</td>\n",
       "      <td>74.488665</td>\n",
       "      <td>181.200000</td>\n",
       "      <td>1</td>\n",
       "    </tr>\n",
       "    <tr>\n",
       "      <th>1</th>\n",
       "      <td>103.929053</td>\n",
       "      <td>107.355042</td>\n",
       "      <td>212.000</td>\n",
       "      <td>116.449142</td>\n",
       "      <td>389.400000</td>\n",
       "      <td>1</td>\n",
       "    </tr>\n",
       "    <tr>\n",
       "      <th>2</th>\n",
       "      <td>26.752507</td>\n",
       "      <td>26.659343</td>\n",
       "      <td>50.775</td>\n",
       "      <td>29.108174</td>\n",
       "      <td>73.000000</td>\n",
       "      <td>1</td>\n",
       "    </tr>\n",
       "    <tr>\n",
       "      <th>3</th>\n",
       "      <td>29.163108</td>\n",
       "      <td>27.375852</td>\n",
       "      <td>70.000</td>\n",
       "      <td>32.353169</td>\n",
       "      <td>60.000000</td>\n",
       "      <td>1</td>\n",
       "    </tr>\n",
       "    <tr>\n",
       "      <th>4</th>\n",
       "      <td>102.470778</td>\n",
       "      <td>100.311768</td>\n",
       "      <td>70.000</td>\n",
       "      <td>98.144195</td>\n",
       "      <td>76.666667</td>\n",
       "      <td>0</td>\n",
       "    </tr>\n",
       "  </tbody>\n",
       "</table>\n",
       "</div>"
      ],
      "text/plain": [
       "   gradBoostReg_pred  gradBoostRegPeaks_pred  bayes_ltv_prediction  \\\n",
       "0          61.676874               57.235831               212.000   \n",
       "1         103.929053              107.355042               212.000   \n",
       "2          26.752507               26.659343                50.775   \n",
       "3          29.163108               27.375852                70.000   \n",
       "4         102.470778              100.311768                70.000   \n",
       "\n",
       "   Expected LTV (Next 6 Months)  Historical Avg 6 Months LTV  \\\n",
       "0                     74.488665                   181.200000   \n",
       "1                    116.449142                   389.400000   \n",
       "2                     29.108174                    73.000000   \n",
       "3                     32.353169                    60.000000   \n",
       "4                     98.144195                    76.666667   \n",
       "\n",
       "   postive_prediction  \n",
       "0                   1  \n",
       "1                   1  \n",
       "2                   1  \n",
       "3                   1  \n",
       "4                   0  "
      ]
     },
     "execution_count": 286,
     "metadata": {},
     "output_type": "execute_result"
    }
   ],
   "source": [
    "inference.head()"
   ]
  },
  {
   "cell_type": "code",
   "execution_count": 250,
   "id": "a1991d6f-365e-4c18-8903-bbd27538c6c3",
   "metadata": {},
   "outputs": [
    {
     "data": {
      "text/plain": [
       "<AxesSubplot:ylabel='Density'>"
      ]
     },
     "execution_count": 250,
     "metadata": {},
     "output_type": "execute_result"
    },
    {
     "data": {
      "image/png": "[encoded data removed]",
      "text/plain": [
       "<Figure size 432x288 with 1 Axes>"
      ]
     },
     "metadata": {
      "needs_background": "light"
     },
     "output_type": "display_data"
    }
   ],
   "source": [
    "inference.gradBoostReg_pred.plot.density(color='green') \n",
    "inference.gradBoostRegPeaks_pred.plot.density(color='blue')\n",
    "inference.decisionTree_pred.plot.density(color='red')\n",
    "inference.bayes_ltv_prediction.plot.density(color='purple')"
   ]
  },
  {
   "cell_type": "markdown",
   "id": "4d20b49d-e2d5-46e7-a584-6506b3cce05b",
   "metadata": {},
   "source": [
    "By removing decision tree we remove the large predictions around 100."
   ]
  },
  {
   "cell_type": "code",
   "execution_count": 252,
   "id": "f3283444-e174-44c0-acfc-664c4889e7e5",
   "metadata": {},
   "outputs": [
    {
     "data": {
      "text/plain": [
       "<AxesSubplot:ylabel='Density'>"
      ]
     },
     "execution_count": 252,
     "metadata": {},
     "output_type": "execute_result"
    },
    {
     "data": {
      "image/png": "[encoded data removed]",
      "text/plain": [
       "<Figure size 432x288 with 1 Axes>"
      ]
     },
     "metadata": {
      "needs_background": "light"
     },
     "output_type": "display_data"
    }
   ],
   "source": [
    "inference.gradBoostReg_pred.plot.density(color='green') \n",
    "inference.gradBoostRegPeaks_pred.plot.density(color='blue')\n",
    "inference.bayes_ltv_prediction.plot.density(color='red')"
   ]
  },
  {
   "cell_type": "markdown",
   "id": "ec161dda-fa76-4a9f-bcd3-f1ab6b932dd2",
   "metadata": {},
   "source": [
    "Our weighted average is a subjective weighting scheme based on model performance."
   ]
  },
  {
   "cell_type": "code",
   "execution_count": 278,
   "id": "28cadcb5-12dd-4a68-b271-752fd98abba2",
   "metadata": {},
   "outputs": [],
   "source": [
    "inference['Expected LTV (Next 6 Months)'] = (inference['gradBoostReg_pred'] * 0.4) + (inference['gradBoostRegPeaks_pred'] * 0.5) + (inference['bayes_ltv_prediction'] * 0.1)"
   ]
  },
  {
   "cell_type": "code",
   "execution_count": 279,
   "id": "f022cd35-7768-48b3-a0d7-daefd4e2a340",
   "metadata": {},
   "outputs": [
    {
     "data": {
      "text/plain": [
       "<AxesSubplot:ylabel='Density'>"
      ]
     },
     "execution_count": 279,
     "metadata": {},
     "output_type": "execute_result"
    },
    {
     "data": {
      "image/png": "[encoded data removed]",
      "text/plain": [
       "<Figure size 432x288 with 1 Axes>"
      ]
     },
     "metadata": {
      "needs_background": "light"
     },
     "output_type": "display_data"
    }
   ],
   "source": [
    "inference['Historical Avg 6 Months LTV'] = aggregated_peaks['rolling_6_month_ltv']\n",
    "inference['Historical Avg 6 Months LTV'].plot.density(color='blue')\n",
    "inference['Expected LTV (Next 6 Months)'].plot.density(color='red')"
   ]
  },
  {
   "cell_type": "markdown",
   "id": "9c5a2ddf-4451-4328-bdd8-b38c7d1a382b",
   "metadata": {},
   "source": [
    "Finally, we can see that our prediction yield interesting results. 50% of customers are expected to have an increase in LTV and 50% are expected to decrease spend compared to there historical 6 month spend."
   ]
  },
  {
   "cell_type": "code",
   "execution_count": 287,
   "id": "5ed0d662-9d59-4880-a800-2686930120ba",
   "metadata": {},
   "outputs": [
    {
     "data": {
      "text/plain": [
       "0    0.50872\n",
       "1    0.49128\n",
       "Name: postive_prediction, dtype: float64"
      ]
     },
     "execution_count": 287,
     "metadata": {},
     "output_type": "execute_result"
    }
   ],
   "source": [
    "inference['postive_prediction'] = np.where(inference['Historical Avg 6 Months LTV'] - inference['Expected LTV (Next 6 Months)'] > 0, 1, 0)\n",
    "inference['postive_prediction'].value_counts(normalize = True)"
   ]
  },
  {
   "cell_type": "code",
   "execution_count": 290,
   "id": "860b3776-770e-4dc7-9231-e7859db2ae69",
   "metadata": {},
   "outputs": [
    {
     "data": {
      "text/plain": [
       "18.898982107317977"
      ]
     },
     "execution_count": 290,
     "metadata": {},
     "output_type": "execute_result"
    }
   ],
   "source": [
    "#Difference between average spend\n",
    "inference['Historical Avg 6 Months LTV'].mean() - inference['Expected LTV (Next 6 Months)'].mean()"
   ]
  },
  {
   "cell_type": "code",
   "execution_count": 284,
   "id": "ff690e60-d645-45a7-b6ab-e7bd31d2872b",
   "metadata": {},
   "outputs": [
    {
     "data": {
      "text/html": [
       "<div>\n",
       "<style scoped>\n",
       "    .dataframe tbody tr th:only-of-type {\n",
       "        vertical-align: middle;\n",
       "    }\n",
       "\n",
       "    .dataframe tbody tr th {\n",
       "        vertical-align: top;\n",
       "    }\n",
       "\n",
       "    .dataframe thead th {\n",
       "        text-align: right;\n",
       "    }\n",
       "</style>\n",
       "<table border=\"1\" class=\"dataframe\">\n",
       "  <thead>\n",
       "    <tr style=\"text-align: right;\">\n",
       "      <th></th>\n",
       "      <th>gradBoostReg_pred</th>\n",
       "      <th>gradBoostRegPeaks_pred</th>\n",
       "      <th>bayes_ltv_prediction</th>\n",
       "      <th>Expected LTV (Next 6 Months)</th>\n",
       "      <th>Historical Avg 6 Months LTV</th>\n",
       "      <th>postive_prediction</th>\n",
       "    </tr>\n",
       "  </thead>\n",
       "  <tbody>\n",
       "    <tr>\n",
       "      <th>0</th>\n",
       "      <td>61.676874</td>\n",
       "      <td>57.235831</td>\n",
       "      <td>212.000</td>\n",
       "      <td>74.488665</td>\n",
       "      <td>181.200000</td>\n",
       "      <td>1</td>\n",
       "    </tr>\n",
       "    <tr>\n",
       "      <th>1</th>\n",
       "      <td>103.929053</td>\n",
       "      <td>107.355042</td>\n",
       "      <td>212.000</td>\n",
       "      <td>116.449142</td>\n",
       "      <td>389.400000</td>\n",
       "      <td>1</td>\n",
       "    </tr>\n",
       "    <tr>\n",
       "      <th>2</th>\n",
       "      <td>26.752507</td>\n",
       "      <td>26.659343</td>\n",
       "      <td>50.775</td>\n",
       "      <td>29.108174</td>\n",
       "      <td>73.000000</td>\n",
       "      <td>1</td>\n",
       "    </tr>\n",
       "    <tr>\n",
       "      <th>3</th>\n",
       "      <td>29.163108</td>\n",
       "      <td>27.375852</td>\n",
       "      <td>70.000</td>\n",
       "      <td>32.353169</td>\n",
       "      <td>60.000000</td>\n",
       "      <td>1</td>\n",
       "    </tr>\n",
       "    <tr>\n",
       "      <th>4</th>\n",
       "      <td>102.470778</td>\n",
       "      <td>100.311768</td>\n",
       "      <td>70.000</td>\n",
       "      <td>98.144195</td>\n",
       "      <td>76.666667</td>\n",
       "      <td>0</td>\n",
       "    </tr>\n",
       "  </tbody>\n",
       "</table>\n",
       "</div>"
      ],
      "text/plain": [
       "   gradBoostReg_pred  gradBoostRegPeaks_pred  bayes_ltv_prediction  \\\n",
       "0          61.676874               57.235831               212.000   \n",
       "1         103.929053              107.355042               212.000   \n",
       "2          26.752507               26.659343                50.775   \n",
       "3          29.163108               27.375852                70.000   \n",
       "4         102.470778              100.311768                70.000   \n",
       "\n",
       "   Expected LTV (Next 6 Months)  Historical Avg 6 Months LTV  \\\n",
       "0                     74.488665                   181.200000   \n",
       "1                    116.449142                   389.400000   \n",
       "2                     29.108174                    73.000000   \n",
       "3                     32.353169                    60.000000   \n",
       "4                     98.144195                    76.666667   \n",
       "\n",
       "   postive_prediction  \n",
       "0                   1  \n",
       "1                   1  \n",
       "2                   1  \n",
       "3                   1  \n",
       "4                   0  "
      ]
     },
     "execution_count": 284,
     "metadata": {},
     "output_type": "execute_result"
    }
   ],
   "source": [
    "inference.head()"
   ]
  },
  {
   "cell_type": "markdown",
   "id": "f85094d9-77d3-4e84-b766-3b71b1076fac",
   "metadata": {},
   "source": [
    "## 9. Closing Summary and Recommendations"
   ]
  },
  {
   "cell_type": "markdown",
   "id": "e0a33ff5-84be-4693-aa44-72aa401ace6a",
   "metadata": {},
   "source": [
    "* The purpose of this analysis was to use machine learning to predict the LTV for the next 6 months at the customer level. \n",
    "* We aggregated the rolling 6 month LTV as a response variable. This lead to duplicates in our feature table as some of the customers had multiple 180 day periods.\n",
    "* We found out that averaging the rolling 6 month LTV proved higher accuracy in the gradient boosting regression model.\n",
    "* The gradient regression models both used State, Income, Age, and Gender as the most important features when training.\n",
    "* The decision tree classifier did not prove to be useful due to poor accuracy and uninformative inference distribution.\n",
    "* The Causal network gave insight into Causal affects in our observational data. Age, Gender, Income, Promo Group (1 and 2), State, and Marriage Status all have Causal affects on Rolling 6 Month LTV. However, the classifcation report shows poor accuracy levels.\n",
    "* We used an ensemble model for predictions, were we took a weighted average between two gradient boosting models and the bayesian network.\n",
    "* Our Expected LTV on average is $18.89 lower compared to our historical 6 month LTV. That is largely due to the high outliers in the historical figures"
   ]
  },
  {
   "cell_type": "markdown",
   "id": "e1318614-50d0-4785-92c3-838b65503c63",
   "metadata": {},
   "source": [
    "## 10. Future Work"
   ]
  },
  {
   "cell_type": "markdown",
   "id": "e116674c-a8c6-43bf-87f0-5022480d7872",
   "metadata": {},
   "source": [
    "This work can be approved on by doing the following:\n",
    "* Removing extreme outliers from the analysis\n",
    "* State of the art time series modeling (HMM and Deep Learning)\n",
    "* Random forest regressor"
   ]
  },
  {
   "cell_type": "code",
   "execution_count": null,
   "id": "8a2a734e-101f-4d0b-af22-672febe36424",
   "metadata": {},
   "outputs": [],
   "source": []
  }
 ],
 "metadata": {
  "kernelspec": {
   "display_name": "LTVModel",
   "language": "python",
   "name": "python3"
  },
  "language_info": {
   "codemirror_mode": {
    "name": "ipython",
    "version": 3
   },
   "file_extension": ".py",
   "mimetype": "text/x-python",
   "name": "python",
   "nbconvert_exporter": "python",
   "pygments_lexer": "ipython3",
   "version": "3.8.9"
  }
 },
 "nbformat": 4,
 "nbformat_minor": 5
}
