{
 "cells": [
  {
   "cell_type": "markdown",
   "id": "2e356337-5be3-4164-9956-e780b6fba9b7",
   "metadata": {
    "tags": []
   },
   "source": [
    "# Predicting customer lifetime value using machine learning\n",
    "---\n",
    "### Problem Statement: Can we build an accurate model to predict next 6 month LTV at customer level?\n",
    "---\n",
    "### Table of Contents:\n",
    "1. Load datasets, packages, and parameters\n",
    "2. Customer Exploratory Analysis\n",
    "3. Transactions Exploratory Analysis\n",
    "4. Response Variable Creation\n",
    "5. Feature Engineering\n",
    "6. Model Training\n",
    "7. Model Evaluation\n",
    "8. Closing Summary and Recommendations\n",
    "---"
   ]
  },
  {
   "cell_type": "markdown",
   "id": "00e14221-b9e1-4dd5-8a61-3781f94467fe",
   "metadata": {
    "tags": []
   },
   "source": [
    "## 1. Load Raw Data Sets and Parameters"
   ]
  },
  {
   "cell_type": "code",
   "execution_count": 1,
   "id": "dc6f757d-6507-4f7b-a3aa-cc19e972ae90",
   "metadata": {},
   "outputs": [
    {
     "name": "stdout",
     "output_type": "stream",
     "text": [
      "2021-12-05 16:12:43,413 - kedro.framework.session.store - INFO - `read()` not implemented for `BaseSessionStore`. Assuming empty store.\n",
      "2021-12-05 16:12:43,435 - root - INFO - ** Kedro project LTV Model\n",
      "2021-12-05 16:12:43,436 - root - INFO - Defined global variable `context`, `session` and `catalog`\n",
      "2021-12-05 16:12:43,449 - root - INFO - Registered line magic `run_viz`\n"
     ]
    }
   ],
   "source": [
    "%reload_kedro\n",
    "from process.pipelines.data_processing import nodes as dp\n",
    "from process.pipelines.data_science import nodes as ds\n",
    "import matplotlib.pyplot as plt\n",
    "from sklearn import preprocessing\n",
    "# Run help(dp) or help(ds) for documentation on functions"
   ]
  },
  {
   "cell_type": "code",
   "execution_count": 49,
   "id": "0c9f0899-a21e-437e-b9db-8090619da873",
   "metadata": {},
   "outputs": [
    {
     "name": "stdout",
     "output_type": "stream",
     "text": [
      "2021-12-05 17:36:00,420 - kedro.io.data_catalog - INFO - Loading data from `customers` (CSVDataSet)...\n",
      "2021-12-05 17:36:00,864 - kedro.io.data_catalog - INFO - Loading data from `transactions` (CSVDataSet)...\n"
     ]
    }
   ],
   "source": [
    "customers = catalog.load('customers').set_index('customer_id')\n",
    "transactions = catalog.load('transactions')"
   ]
  },
  {
   "cell_type": "markdown",
   "id": "d83c810b-348f-406c-9d79-10045f1f16c0",
   "metadata": {
    "tags": []
   },
   "source": [
    "## 2. Customer Exporatory Analysis"
   ]
  },
  {
   "cell_type": "code",
   "execution_count": 3,
   "id": "0566cae7-53f4-4bd6-8f1a-fe3c14759fa4",
   "metadata": {},
   "outputs": [
    {
     "data": {
      "text/html": [
       "<div>\n",
       "<style scoped>\n",
       "    .dataframe tbody tr th:only-of-type {\n",
       "        vertical-align: middle;\n",
       "    }\n",
       "\n",
       "    .dataframe tbody tr th {\n",
       "        vertical-align: top;\n",
       "    }\n",
       "\n",
       "    .dataframe thead th {\n",
       "        text-align: right;\n",
       "    }\n",
       "</style>\n",
       "<table border=\"1\" class=\"dataframe\">\n",
       "  <thead>\n",
       "    <tr style=\"text-align: right;\">\n",
       "      <th></th>\n",
       "      <th>state</th>\n",
       "      <th>age</th>\n",
       "      <th>gender</th>\n",
       "      <th>income</th>\n",
       "      <th>is_married</th>\n",
       "      <th>promo_group_1</th>\n",
       "      <th>promo_group_2</th>\n",
       "      <th>customer_loyalty_index</th>\n",
       "      <th>brand_awareness_index</th>\n",
       "    </tr>\n",
       "    <tr>\n",
       "      <th>customer_id</th>\n",
       "      <th></th>\n",
       "      <th></th>\n",
       "      <th></th>\n",
       "      <th></th>\n",
       "      <th></th>\n",
       "      <th></th>\n",
       "      <th></th>\n",
       "      <th></th>\n",
       "      <th></th>\n",
       "    </tr>\n",
       "  </thead>\n",
       "  <tbody>\n",
       "    <tr>\n",
       "      <th>0</th>\n",
       "      <td>NJ</td>\n",
       "      <td>64</td>\n",
       "      <td>Female</td>\n",
       "      <td>65000.0</td>\n",
       "      <td>Y</td>\n",
       "      <td>A</td>\n",
       "      <td>X</td>\n",
       "      <td>0.058849</td>\n",
       "      <td>1.969644e-01</td>\n",
       "    </tr>\n",
       "    <tr>\n",
       "      <th>1</th>\n",
       "      <td>NY</td>\n",
       "      <td>26</td>\n",
       "      <td>Female</td>\n",
       "      <td>43000.0</td>\n",
       "      <td>Y</td>\n",
       "      <td>A</td>\n",
       "      <td>Z</td>\n",
       "      <td>-4.872865</td>\n",
       "      <td>2.970386e-14</td>\n",
       "    </tr>\n",
       "    <tr>\n",
       "      <th>2</th>\n",
       "      <td>NH</td>\n",
       "      <td>55</td>\n",
       "      <td>Female</td>\n",
       "      <td>93000.0</td>\n",
       "      <td>Y</td>\n",
       "      <td>C</td>\n",
       "      <td>X</td>\n",
       "      <td>NaN</td>\n",
       "      <td>NaN</td>\n",
       "    </tr>\n",
       "    <tr>\n",
       "      <th>3</th>\n",
       "      <td>ME</td>\n",
       "      <td>18</td>\n",
       "      <td>Female</td>\n",
       "      <td>68000.0</td>\n",
       "      <td>N</td>\n",
       "      <td>B</td>\n",
       "      <td>Z</td>\n",
       "      <td>0.152339</td>\n",
       "      <td>2.341961e-03</td>\n",
       "    </tr>\n",
       "    <tr>\n",
       "      <th>4</th>\n",
       "      <td>CA</td>\n",
       "      <td>41</td>\n",
       "      <td>Female</td>\n",
       "      <td>25000.0</td>\n",
       "      <td>N</td>\n",
       "      <td>A</td>\n",
       "      <td>Y</td>\n",
       "      <td>0.732875</td>\n",
       "      <td>8.073341e-14</td>\n",
       "    </tr>\n",
       "  </tbody>\n",
       "</table>\n",
       "</div>"
      ],
      "text/plain": [
       "            state  age  gender   income is_married promo_group_1  \\\n",
       "customer_id                                                        \n",
       "0              NJ   64  Female  65000.0          Y             A   \n",
       "1              NY   26  Female  43000.0          Y             A   \n",
       "2              NH   55  Female  93000.0          Y             C   \n",
       "3              ME   18  Female  68000.0          N             B   \n",
       "4              CA   41  Female  25000.0          N             A   \n",
       "\n",
       "            promo_group_2  customer_loyalty_index  brand_awareness_index  \n",
       "customer_id                                                               \n",
       "0                       X                0.058849           1.969644e-01  \n",
       "1                       Z               -4.872865           2.970386e-14  \n",
       "2                       X                     NaN                    NaN  \n",
       "3                       Z                0.152339           2.341961e-03  \n",
       "4                       Y                0.732875           8.073341e-14  "
      ]
     },
     "execution_count": 3,
     "metadata": {},
     "output_type": "execute_result"
    }
   ],
   "source": [
    "customers.head()"
   ]
  },
  {
   "cell_type": "code",
   "execution_count": 4,
   "id": "04d06853-2452-4922-812c-4ec93b0eb9c1",
   "metadata": {
    "tags": []
   },
   "outputs": [
    {
     "name": "stdout",
     "output_type": "stream",
     "text": [
      "Female    0.49809\n",
      "Male      0.29921\n",
      "Other     0.20270\n",
      "Name: gender, dtype: float64\n"
     ]
    },
    {
     "data": {
      "image/png": "[encoded data removed]",
      "text/plain": [
       "<Figure size 432x288 with 1 Axes>"
      ]
     },
     "metadata": {
      "needs_background": "light"
     },
     "output_type": "display_data"
    }
   ],
   "source": [
    "ax = customers.gender.value_counts(normalize = True).plot.bar()\n",
    "ax.set_title(\"Distribution of Gender\")\n",
    "ax.set_xlabel(\"Categories\")\n",
    "ax.set_ylabel(\"Coverage (%)\")\n",
    "print(customers.gender.value_counts(normalize = True))"
   ]
  },
  {
   "cell_type": "markdown",
   "id": "881bac4d-0d76-40b1-a643-82481ac188e8",
   "metadata": {},
   "source": [
    "__The majority of customers are female (49%).__"
   ]
  },
  {
   "cell_type": "code",
   "execution_count": 5,
   "id": "c866b379-9f0d-431d-9305-84abef0a98e8",
   "metadata": {},
   "outputs": [
    {
     "name": "stdout",
     "output_type": "stream",
     "text": [
      "N    0.56061\n",
      "Y    0.43939\n",
      "Name: is_married, dtype: float64\n"
     ]
    },
    {
     "data": {
      "image/png": "[encoded data removed]",
      "text/plain": [
       "<Figure size 432x288 with 1 Axes>"
      ]
     },
     "metadata": {
      "needs_background": "light"
     },
     "output_type": "display_data"
    }
   ],
   "source": [
    "ax = customers.is_married.value_counts(normalize = True).plot.bar()\n",
    "ax.set_title(\"Distribution of Marriage\")\n",
    "ax.set_xlabel(\"Categories\")\n",
    "ax.set_ylabel(\"Coverage (%)\")\n",
    "print(customers.is_married.value_counts(normalize = True))"
   ]
  },
  {
   "cell_type": "markdown",
   "id": "07f7daee-bd5f-41e2-8e1b-df83c83e6724",
   "metadata": {},
   "source": [
    "__The majority of customers are not married (56%).__"
   ]
  },
  {
   "cell_type": "code",
   "execution_count": 6,
   "id": "4a569293-448a-445d-86c4-7294966cf943",
   "metadata": {},
   "outputs": [
    {
     "data": {
      "text/plain": [
       "gender  is_married\n",
       "Female  N             28024\n",
       "        Y             21785\n",
       "Male    N             16627\n",
       "        Y             13294\n",
       "Other   N             11410\n",
       "        Y              8860\n",
       "dtype: int64"
      ]
     },
     "execution_count": 6,
     "metadata": {},
     "output_type": "execute_result"
    }
   ],
   "source": [
    "customers[['gender','is_married']].value_counts()"
   ]
  },
  {
   "cell_type": "markdown",
   "id": "003fc1a5-ccda-4dcb-ae8a-d7228dde46b3",
   "metadata": {},
   "source": [
    "__The marriage rate is roughly the same between males and females, but not other.__"
   ]
  },
  {
   "cell_type": "code",
   "execution_count": 7,
   "id": "30a4e7b5-8b83-4c7c-85e6-eb6602b02f73",
   "metadata": {},
   "outputs": [
    {
     "name": "stdout",
     "output_type": "stream",
     "text": [
      "TX    0.113060\n",
      "CA    0.112743\n",
      "NJ    0.111744\n",
      "NY    0.111427\n",
      "GA    0.110934\n",
      "NH    0.110534\n",
      "FL    0.109935\n",
      "ME    0.109911\n",
      "MA    0.109712\n",
      "Name: state, dtype: float64\n"
     ]
    },
    {
     "data": {
      "image/png": "[encoded data removed]",
      "text/plain": [
       "<Figure size 432x288 with 1 Axes>"
      ]
     },
     "metadata": {
      "needs_background": "light"
     },
     "output_type": "display_data"
    }
   ],
   "source": [
    "ax = customers.state.value_counts(normalize = True).plot.bar()\n",
    "ax.set_title(\"Distribution of State\")\n",
    "ax.set_xlabel(\"States\")\n",
    "ax.set_ylabel(\"Coverage (%)\")\n",
    "print(customers.state.value_counts(normalize = True))"
   ]
  },
  {
   "cell_type": "markdown",
   "id": "289f7054-5295-4f54-81b9-690f1a491f32",
   "metadata": {},
   "source": [
    "__We have 9 distinct states that are evenly distributed.__"
   ]
  },
  {
   "cell_type": "code",
   "execution_count": 8,
   "id": "b74eaf47-79ee-4458-803c-4eb2883df95f",
   "metadata": {},
   "outputs": [
    {
     "data": {
      "image/png": "[encoded data removed]",
      "text/plain": [
       "<Figure size 432x288 with 2 Axes>"
      ]
     },
     "metadata": {
      "needs_background": "light"
     },
     "output_type": "display_data"
    }
   ],
   "source": [
    "plt.subplot(1, 2, 1)\n",
    "ax = customers.age.hist()\n",
    "ax.set_title(\"Distribution of Age\")\n",
    "ax.set_xlabel(\"Age\")\n",
    "ax.set_ylabel(\"Count\")\n",
    "\n",
    "plt.subplot(1, 2, 2)\n",
    "ax = customers.boxplot(column='age')\n",
    "ax.set_title(\"Distribution of Age\")\n",
    "ax.set_ylabel(\"Years\")                    \n",
    "\n",
    "plt.subplots_adjust(left=0.1,\n",
    "                    bottom=0.1, \n",
    "                    right=1.9, \n",
    "                    top=0.9, \n",
    "                    wspace=0.4, \n",
    "                    hspace=0.4)\n",
    "\n",
    "plt.show()"
   ]
  },
  {
   "cell_type": "markdown",
   "id": "9a3cf0b1-eb54-4e7f-8d66-b5b478479015",
   "metadata": {},
   "source": [
    "__Bottom half of customer population are between 18 and 42 (difference of 24 years), the top half are between 43 and 84 (difference 41 years)__"
   ]
  },
  {
   "cell_type": "code",
   "execution_count": 9,
   "id": "3a648ee4-b5e0-4af1-9954-0432fb9dfb16",
   "metadata": {},
   "outputs": [
    {
     "data": {
      "image/png": "[encoded data removed]",
      "text/plain": [
       "<Figure size 432x288 with 2 Axes>"
      ]
     },
     "metadata": {
      "needs_background": "light"
     },
     "output_type": "display_data"
    }
   ],
   "source": [
    "plt.subplot(1, 2, 1)\n",
    "ax = customers.income.hist()\n",
    "ax.set_title(\"Distribution of Income\")\n",
    "ax.set_xlabel(\"Income ($)\")\n",
    "ax.set_ylabel(\"Count\")\n",
    "\n",
    "plt.subplot(1, 2, 2)\n",
    "ax = customers.boxplot(column='income')\n",
    "ax.set_title(\"Distribution of Income\")\n",
    "ax.set_ylabel(\"Income ($)\")                   \n",
    "\n",
    "plt.subplots_adjust(left=0.1,\n",
    "                    bottom=0.1, \n",
    "                    right=1.9, \n",
    "                    top=0.9, \n",
    "                    wspace=0.4, \n",
    "                    hspace=0.4)\n",
    "\n",
    "plt.show()"
   ]
  },
  {
   "cell_type": "markdown",
   "id": "2481853b-cbb8-4d8c-9296-1fd8fe662413",
   "metadata": {},
   "source": [
    "__Bottom half of customer population earn less than $74,000/annually__"
   ]
  },
  {
   "cell_type": "code",
   "execution_count": 10,
   "id": "b33091e1-4131-4bf8-a9b4-58636da93924",
   "metadata": {},
   "outputs": [
    {
     "data": {
      "text/plain": [
       "Text(0, 0.5, 'Count')"
      ]
     },
     "execution_count": 10,
     "metadata": {},
     "output_type": "execute_result"
    },
    {
     "data": {
      "image/png": "[encoded data removed]",
      "text/plain": [
       "<Figure size 432x288 with 1 Axes>"
      ]
     },
     "metadata": {
      "needs_background": "light"
     },
     "output_type": "display_data"
    }
   ],
   "source": [
    "ax = customers.customer_loyalty_index.hist()\n",
    "ax.set_title(\"Distribution of Loyality Index\")\n",
    "ax.set_xlabel(\"Loyality Index\")\n",
    "ax.set_ylabel(\"Count\")"
   ]
  },
  {
   "cell_type": "markdown",
   "id": "2a0c055b-aae7-4909-9be3-c94a5385e071",
   "metadata": {},
   "source": [
    "__Customer loyalty index appears to be normally distributed around 0.__"
   ]
  },
  {
   "cell_type": "code",
   "execution_count": 11,
   "id": "0e2e8f65-4a7c-480b-b00e-4e5b6116560a",
   "metadata": {},
   "outputs": [
    {
     "data": {
      "text/plain": [
       "Text(0, 0.5, 'Count')"
      ]
     },
     "execution_count": 11,
     "metadata": {},
     "output_type": "execute_result"
    },
    {
     "data": {
      "image/png": "[encoded data removed]",
      "text/plain": [
       "<Figure size 432x288 with 1 Axes>"
      ]
     },
     "metadata": {
      "needs_background": "light"
     },
     "output_type": "display_data"
    }
   ],
   "source": [
    "ax = customers.brand_awareness_index.hist()\n",
    "ax.set_title(\"Distribution of Brand Awareness Index\")\n",
    "ax.set_xlabel(\"Brand Awareness Index\")\n",
    "ax.set_ylabel(\"Count\")"
   ]
  },
  {
   "cell_type": "markdown",
   "id": "4ed9e142-ad00-461e-8c35-01e8b250dbdb",
   "metadata": {},
   "source": [
    "__Brand Awareness has major postive skewness__"
   ]
  },
  {
   "cell_type": "code",
   "execution_count": 12,
   "id": "606684a1-3c56-4549-86bd-6aa27d0b4587",
   "metadata": {},
   "outputs": [
    {
     "name": "stdout",
     "output_type": "stream",
     "text": [
      "          income       age\n",
      "income  1.000000  0.004502\n",
      "age     0.004502  1.000000\n"
     ]
    },
    {
     "data": {
      "image/png": "[encoded data removed]",
      "text/plain": [
       "<Figure size 432x288 with 1 Axes>"
      ]
     },
     "metadata": {
      "needs_background": "light"
     },
     "output_type": "display_data"
    }
   ],
   "source": [
    "customers.plot.scatter(y = 'income', x = 'age')\n",
    "print(customers[['income','age']].corr())"
   ]
  },
  {
   "cell_type": "markdown",
   "id": "f1ca474d-6bff-4f6e-865b-752be239b32b",
   "metadata": {},
   "source": [
    "__There isn't a linear relationship between age and income__"
   ]
  },
  {
   "cell_type": "markdown",
   "id": "4f4e8e53-b52a-4d4a-a251-e2c8ee4f67a5",
   "metadata": {},
   "source": [
    "---\n",
    "__In fact, the continuous variables don't have any linear relationships.__"
   ]
  },
  {
   "cell_type": "code",
   "execution_count": 36,
   "id": "4338e042-bf7b-4919-b594-170f7bfea7a7",
   "metadata": {},
   "outputs": [
    {
     "data": {
      "text/html": [
       "<div>\n",
       "<style scoped>\n",
       "    .dataframe tbody tr th:only-of-type {\n",
       "        vertical-align: middle;\n",
       "    }\n",
       "\n",
       "    .dataframe tbody tr th {\n",
       "        vertical-align: top;\n",
       "    }\n",
       "\n",
       "    .dataframe thead th {\n",
       "        text-align: right;\n",
       "    }\n",
       "</style>\n",
       "<table border=\"1\" class=\"dataframe\">\n",
       "  <thead>\n",
       "    <tr style=\"text-align: right;\">\n",
       "      <th></th>\n",
       "      <th>income</th>\n",
       "      <th>age</th>\n",
       "      <th>customer_loyalty_index</th>\n",
       "      <th>brand_awareness_index</th>\n",
       "    </tr>\n",
       "  </thead>\n",
       "  <tbody>\n",
       "    <tr>\n",
       "      <th>income</th>\n",
       "      <td>1.000000</td>\n",
       "      <td>0.004502</td>\n",
       "      <td>0.001694</td>\n",
       "      <td>-0.003763</td>\n",
       "    </tr>\n",
       "    <tr>\n",
       "      <th>age</th>\n",
       "      <td>0.004502</td>\n",
       "      <td>1.000000</td>\n",
       "      <td>0.002308</td>\n",
       "      <td>-0.000759</td>\n",
       "    </tr>\n",
       "    <tr>\n",
       "      <th>customer_loyalty_index</th>\n",
       "      <td>0.001694</td>\n",
       "      <td>0.002308</td>\n",
       "      <td>1.000000</td>\n",
       "      <td>-0.002624</td>\n",
       "    </tr>\n",
       "    <tr>\n",
       "      <th>brand_awareness_index</th>\n",
       "      <td>-0.003763</td>\n",
       "      <td>-0.000759</td>\n",
       "      <td>-0.002624</td>\n",
       "      <td>1.000000</td>\n",
       "    </tr>\n",
       "  </tbody>\n",
       "</table>\n",
       "</div>"
      ],
      "text/plain": [
       "                          income       age  customer_loyalty_index  \\\n",
       "income                  1.000000  0.004502                0.001694   \n",
       "age                     0.004502  1.000000                0.002308   \n",
       "customer_loyalty_index  0.001694  0.002308                1.000000   \n",
       "brand_awareness_index  -0.003763 -0.000759               -0.002624   \n",
       "\n",
       "                        brand_awareness_index  \n",
       "income                              -0.003763  \n",
       "age                                 -0.000759  \n",
       "customer_loyalty_index              -0.002624  \n",
       "brand_awareness_index                1.000000  "
      ]
     },
     "execution_count": 36,
     "metadata": {},
     "output_type": "execute_result"
    }
   ],
   "source": [
    "customers[['income','age','customer_loyalty_index','brand_awareness_index']].corr()"
   ]
  },
  {
   "cell_type": "markdown",
   "id": "f11ac4d9-6a64-47bd-9043-81d06e044a31",
   "metadata": {},
   "source": [
    "---\n",
    "\n",
    "#### Customer EDA Recap:\n",
    "- 49% of customers are female, 29% are male, and 20% other\n",
    "- 56% of customers are not married.\n",
    "- Customers are only located in Texas, California, New Jersey, New York, and Georgia (evenly distributed)\n",
    "- 50% of customers are under the age of 42\n",
    "- 50% of customers have an annual income of $74,000\n",
    "- No linear relationship between income and age\n",
    "- No linear relationships between income, age, customer_loyalty, brand_awareness\n",
    "- We will need to Label encode the categorical variables.\n",
    "- We will need to apply Standard scale for our continuous variables.\n",
    "    - We will need to apply mean imputation for nan values.\n",
    "---"
   ]
  },
  {
   "cell_type": "markdown",
   "id": "18b1945a-8e37-411c-bd58-ffc0aaec4ab9",
   "metadata": {},
   "source": [
    "## 3. Transactions Exporatory Analysis"
   ]
  },
  {
   "cell_type": "code",
   "execution_count": 14,
   "id": "576b67d2-060e-49a6-8be8-6c9e100cdc65",
   "metadata": {},
   "outputs": [
    {
     "data": {
      "text/html": [
       "<div>\n",
       "<style scoped>\n",
       "    .dataframe tbody tr th:only-of-type {\n",
       "        vertical-align: middle;\n",
       "    }\n",
       "\n",
       "    .dataframe tbody tr th {\n",
       "        vertical-align: top;\n",
       "    }\n",
       "\n",
       "    .dataframe thead th {\n",
       "        text-align: right;\n",
       "    }\n",
       "</style>\n",
       "<table border=\"1\" class=\"dataframe\">\n",
       "  <thead>\n",
       "    <tr style=\"text-align: right;\">\n",
       "      <th></th>\n",
       "      <th>customer_id</th>\n",
       "      <th>transaction_value</th>\n",
       "      <th>transaction_days_after_joining</th>\n",
       "    </tr>\n",
       "  </thead>\n",
       "  <tbody>\n",
       "    <tr>\n",
       "      <th>0</th>\n",
       "      <td>0</td>\n",
       "      <td>5.0</td>\n",
       "      <td>1.0</td>\n",
       "    </tr>\n",
       "    <tr>\n",
       "      <th>1</th>\n",
       "      <td>0</td>\n",
       "      <td>2.0</td>\n",
       "      <td>16.0</td>\n",
       "    </tr>\n",
       "    <tr>\n",
       "      <th>2</th>\n",
       "      <td>0</td>\n",
       "      <td>10.0</td>\n",
       "      <td>31.0</td>\n",
       "    </tr>\n",
       "    <tr>\n",
       "      <th>3</th>\n",
       "      <td>0</td>\n",
       "      <td>8.0</td>\n",
       "      <td>46.0</td>\n",
       "    </tr>\n",
       "    <tr>\n",
       "      <th>4</th>\n",
       "      <td>0</td>\n",
       "      <td>9.0</td>\n",
       "      <td>61.0</td>\n",
       "    </tr>\n",
       "  </tbody>\n",
       "</table>\n",
       "</div>"
      ],
      "text/plain": [
       "   customer_id  transaction_value  transaction_days_after_joining\n",
       "0            0                5.0                             1.0\n",
       "1            0                2.0                            16.0\n",
       "2            0               10.0                            31.0\n",
       "3            0                8.0                            46.0\n",
       "4            0                9.0                            61.0"
      ]
     },
     "execution_count": 14,
     "metadata": {},
     "output_type": "execute_result"
    }
   ],
   "source": [
    "transactions.head()"
   ]
  },
  {
   "cell_type": "code",
   "execution_count": 15,
   "id": "7ac4d319-9dc1-405f-8857-e08dd2554030",
   "metadata": {},
   "outputs": [
    {
     "data": {
      "image/png": "[encoded data removed]",
      "text/plain": [
       "<Figure size 432x288 with 2 Axes>"
      ]
     },
     "metadata": {
      "needs_background": "light"
     },
     "output_type": "display_data"
    }
   ],
   "source": [
    "plt.subplot(1, 2, 1)\n",
    "ax = transactions.transaction_value.hist()\n",
    "ax.set_title(\"Distribution of Transaction Value\")\n",
    "ax.set_xlabel(\"Transaction Value\")\n",
    "ax.set_ylabel(\"Count\")\n",
    "\n",
    "plt.subplot(1, 2, 2)\n",
    "ax = transactions.boxplot(column='transaction_value')\n",
    "ax.set_title(\"Distribution of Transaction Value\")\n",
    "ax.set_ylabel(\"Transaction Value ($)\")                   \n",
    "\n",
    "plt.subplots_adjust(left=0.1,\n",
    "                    bottom=0.1, \n",
    "                    right=1.9, \n",
    "                    top=0.9, \n",
    "                    wspace=0.4, \n",
    "                    hspace=0.4)\n",
    "\n",
    "plt.show()"
   ]
  },
  {
   "cell_type": "markdown",
   "id": "5b13a7db-2510-42cf-b3fe-0a2a2d6db44c",
   "metadata": {},
   "source": [
    "__Bottom 50% of transaction value is between 0.00 and 11.00 dollars. Said another way, 50% of transactions are less than 11 dollars.__"
   ]
  },
  {
   "cell_type": "code",
   "execution_count": 145,
   "id": "b29c3d82-c3ab-444f-9ef2-f030c2b8c16d",
   "metadata": {},
   "outputs": [
    {
     "data": {
      "image/png": "[encoded data removed]",
      "text/plain": [
       "<Figure size 432x288 with 2 Axes>"
      ]
     },
     "metadata": {
      "needs_background": "light"
     },
     "output_type": "display_data"
    }
   ],
   "source": [
    "plt.subplot(1, 2, 1)\n",
    "ax = transactions.transaction_days_after_joining.hist()\n",
    "ax.set_title(\"Distribution of Transaction Days\")\n",
    "ax.set_xlabel(\"Transaction Days\")\n",
    "ax.set_ylabel(\"Count\")\n",
    "\n",
    "plt.subplot(1, 2, 2)\n",
    "ax = transactions.boxplot(column='transaction_days_after_joining')\n",
    "ax.set_title(\"Distribution of Transaction Days\")\n",
    "ax.set_ylabel(\"Transaction Days\")                   \n",
    "\n",
    "plt.subplots_adjust(left=0.1,\n",
    "                    bottom=0.1, \n",
    "                    right=1.9, \n",
    "                    top=0.9, \n",
    "                    wspace=0.4, \n",
    "                    hspace=0.4)\n",
    "\n",
    "plt.show()"
   ]
  },
  {
   "cell_type": "markdown",
   "id": "ffb23e4e-f6c8-4f3f-90b2-5b157fed7e92",
   "metadata": {},
   "source": [
    "__50% of transaction are within 5 1/2 months after first transaction.__"
   ]
  },
  {
   "cell_type": "code",
   "execution_count": 17,
   "id": "c48fadae-42b0-40cc-a4f8-21ddc272da9b",
   "metadata": {},
   "outputs": [
    {
     "data": {
      "text/plain": [
       "Text(0, 0.5, 'Count')"
      ]
     },
     "execution_count": 17,
     "metadata": {},
     "output_type": "execute_result"
    },
    {
     "data": {
      "image/png": "[encoded data removed]",
      "text/plain": [
       "<Figure size 432x288 with 1 Axes>"
      ]
     },
     "metadata": {
      "needs_background": "light"
     },
     "output_type": "display_data"
    }
   ],
   "source": [
    "ax = transactions.groupby('customer_id').transaction_value.sum().hist()\n",
    "ax.set_title(\"Distribution of Total Customer Transaction Value\")\n",
    "ax.set_xlabel(\"Transaction Value\")\n",
    "ax.set_ylabel(\"Count\")                 "
   ]
  },
  {
   "cell_type": "markdown",
   "id": "a77bec5d-f58a-43e7-aa55-bebde50842f5",
   "metadata": {},
   "source": [
    "__50% of total customer spend is less than $89.__"
   ]
  },
  {
   "cell_type": "markdown",
   "id": "d1600996-c655-44fb-8653-9c688db959eb",
   "metadata": {},
   "source": [
    "---\n",
    "\n",
    "#### Transaction EDA Recap:\n",
    "- 50% of transactions occur within 5 1/2 months after first transaction\n",
    "- 50% of customer total transaction value is 89 dollars.\n",
    "- 50% of transactions are less than 11 dollars.\n",
    "- Clear evidence of positive skewness in transaction value and transaction days.\n",
    "---"
   ]
  },
  {
   "cell_type": "markdown",
   "id": "41e229ee-d0ed-4faf-81f3-2d2a283db74b",
   "metadata": {},
   "source": [
    "## 3. Response Variable Creation"
   ]
  },
  {
   "cell_type": "markdown",
   "id": "1b9c914b-a631-4020-ad17-eaddf1fa8a46",
   "metadata": {},
   "source": [
    "* As a reminder, our goal is to predict customer lifetime value. Customer lifetime value is next 6 month LTV.\n",
    "* We define next 6 month LTV has the rolling 6 month sum of transaction value.\n",
    "---\n",
    "Lets go through an example. Here is the total cumulative sum of transaction value for customer_0."
   ]
  },
  {
   "cell_type": "code",
   "execution_count": 25,
   "id": "5e3a9528-93c0-45a7-b379-7df3c9ee3450",
   "metadata": {},
   "outputs": [
    {
     "data": {
      "text/plain": [
       "<AxesSubplot:>"
      ]
     },
     "execution_count": 25,
     "metadata": {},
     "output_type": "execute_result"
    },
    {
     "data": {
      "image/png": "[encoded data removed]",
      "text/plain": [
       "<Figure size 432x288 with 1 Axes>"
      ]
     },
     "metadata": {
      "needs_background": "light"
     },
     "output_type": "display_data"
    }
   ],
   "source": [
    "transactions[transactions['customer_id'] == 0]['transaction_value'].cumsum().plot()"
   ]
  },
  {
   "cell_type": "markdown",
   "id": "dbb6cead-4ae2-4586-9fec-b2ef136f0ea3",
   "metadata": {},
   "source": [
    "After 866 days from the initial purchase, customer_0 has a total lifetime value of $906.\n",
    "\n",
    "---"
   ]
  },
  {
   "cell_type": "markdown",
   "id": "30d82045-b3ec-4b22-810e-367a6fef299d",
   "metadata": {},
   "source": [
    "We can break up the cumulative sum by 180 days:"
   ]
  },
  {
   "cell_type": "code",
   "execution_count": 31,
   "id": "de499721-5f80-43a9-85dd-f869f2eb2a43",
   "metadata": {},
   "outputs": [],
   "source": [
    "#Column for 180 days (6 months)\n",
    "transactions['rolling_6_months'] = (\n",
    "    (transactions['transaction_days_after_joining']-1) / 180).astype(int)\n",
    "\n",
    "transactions['rolling_6_month_ltv'] = transactions.groupby(\n",
    "    ['customer_id', 'rolling_6_months'])['transaction_value'].cumsum()"
   ]
  },
  {
   "cell_type": "code",
   "execution_count": 34,
   "id": "64e02097-303f-4e5b-9e42-2fe4dd4ba4ae",
   "metadata": {},
   "outputs": [
    {
     "data": {
      "text/plain": [
       "Text(0, 0.5, 'Transaction value ($)')"
      ]
     },
     "execution_count": 34,
     "metadata": {},
     "output_type": "execute_result"
    },
    {
     "data": {
      "image/png": "[encoded data removed]",
      "text/plain": [
       "<Figure size 432x288 with 1 Axes>"
      ]
     },
     "metadata": {
      "needs_background": "light"
     },
     "output_type": "display_data"
    }
   ],
   "source": [
    "ax = transactions[transactions['customer_id'] == 0]['rolling_6_month_ltv'].plot()\n",
    "ax.set_title(\"Rolling 6 Month Cumulative Transaction Value Sum\")\n",
    "ax.set_ylabel(\"Transaction value ($)\")"
   ]
  },
  {
   "cell_type": "markdown",
   "id": "d8845e1e-77c1-4f89-8bda-184f6e9899c3",
   "metadata": {},
   "source": [
    "The peaks tell us the total transaction value within a rolling 180 day period. We will use the peaks as the response variables, because our goal is to predict the next 6 month ltv. Therefore we want to learn from the historical 6 month total ltv for each customer. \n",
    "\n",
    "---"
   ]
  },
  {
   "cell_type": "markdown",
   "id": "4c3a4dcf-32f6-4d04-b30a-7ec327da52a0",
   "metadata": {},
   "source": [
    "Our response variable is the rolling 180 day cumulative transaction value for each customer (rolling_6_month_ltv)"
   ]
  },
  {
   "cell_type": "code",
   "execution_count": 47,
   "id": "989607a7-9ef8-4c6c-afbc-47b37c5d997f",
   "metadata": {},
   "outputs": [
    {
     "data": {
      "text/html": [
       "<div>\n",
       "<style scoped>\n",
       "    .dataframe tbody tr th:only-of-type {\n",
       "        vertical-align: middle;\n",
       "    }\n",
       "\n",
       "    .dataframe tbody tr th {\n",
       "        vertical-align: top;\n",
       "    }\n",
       "\n",
       "    .dataframe thead th {\n",
       "        text-align: right;\n",
       "    }\n",
       "</style>\n",
       "<table border=\"1\" class=\"dataframe\">\n",
       "  <thead>\n",
       "    <tr style=\"text-align: right;\">\n",
       "      <th></th>\n",
       "      <th>rolling_6_months</th>\n",
       "      <th>rolling_6_month_ltv</th>\n",
       "    </tr>\n",
       "    <tr>\n",
       "      <th>customer_id</th>\n",
       "      <th></th>\n",
       "      <th></th>\n",
       "    </tr>\n",
       "  </thead>\n",
       "  <tbody>\n",
       "    <tr>\n",
       "      <th>0</th>\n",
       "      <td>0</td>\n",
       "      <td>134.0</td>\n",
       "    </tr>\n",
       "    <tr>\n",
       "      <th>0</th>\n",
       "      <td>1</td>\n",
       "      <td>228.0</td>\n",
       "    </tr>\n",
       "    <tr>\n",
       "      <th>0</th>\n",
       "      <td>2</td>\n",
       "      <td>181.0</td>\n",
       "    </tr>\n",
       "    <tr>\n",
       "      <th>0</th>\n",
       "      <td>3</td>\n",
       "      <td>197.0</td>\n",
       "    </tr>\n",
       "    <tr>\n",
       "      <th>0</th>\n",
       "      <td>4</td>\n",
       "      <td>166.0</td>\n",
       "    </tr>\n",
       "  </tbody>\n",
       "</table>\n",
       "</div>"
      ],
      "text/plain": [
       "             rolling_6_months  rolling_6_month_ltv\n",
       "customer_id                                       \n",
       "0                           0                134.0\n",
       "0                           1                228.0\n",
       "0                           2                181.0\n",
       "0                           3                197.0\n",
       "0                           4                166.0"
      ]
     },
     "execution_count": 47,
     "metadata": {},
     "output_type": "execute_result"
    }
   ],
   "source": [
    "rolling_ltv = dp.target_variable(transactions)\n",
    "rolling_ltv.head()"
   ]
  },
  {
   "cell_type": "code",
   "execution_count": 67,
   "id": "3e206401-4c1c-4865-a451-3fc1164f5743",
   "metadata": {},
   "outputs": [],
   "source": [
    "#Build our repsonse variable for the feature table\n",
    "response = dp.target_variable(transactions).drop('rolling_6_months', axis = 1)"
   ]
  },
  {
   "cell_type": "markdown",
   "id": "7b6321f2-1c68-4f5c-b03f-1b4e43267bbd",
   "metadata": {},
   "source": [
    "---"
   ]
  },
  {
   "cell_type": "markdown",
   "id": "3792fdc2-b521-4863-88d5-cc480736392c",
   "metadata": {},
   "source": [
    "## 3. Feature Engineering"
   ]
  },
  {
   "cell_type": "markdown",
   "id": "63eba90d-cc2a-41cc-98db-f99b3993d06b",
   "metadata": {},
   "source": [
    "We will use a feature engineering map to provide standard scaler and label encoding on the customers table. The map is shown below which is loaded via the parameters.yml file."
   ]
  },
  {
   "cell_type": "code",
   "execution_count": 52,
   "id": "3c6531ab-6f8a-419a-aec0-c20dd2e5801c",
   "metadata": {},
   "outputs": [
    {
     "name": "stdout",
     "output_type": "stream",
     "text": [
      "2021-12-05 17:36:43,470 - kedro.io.data_catalog - INFO - Loading data from `parameters` (MemoryDataSet)...\n"
     ]
    },
    {
     "data": {
      "text/plain": [
       "{'state': 'label',\n",
       " 'gender': 'label',\n",
       " 'is_married': 'label',\n",
       " 'promo_group_1': 'label',\n",
       " 'promo_group_2': 'label',\n",
       " 'age': 'continuous',\n",
       " 'income': 'continuous',\n",
       " 'customer_loyalty_index': 'continuous',\n",
       " 'brand_awareness_index': 'continuous'}"
      ]
     },
     "execution_count": 52,
     "metadata": {},
     "output_type": "execute_result"
    }
   ],
   "source": [
    "parameters = catalog.load('parameters')\n",
    "parameters['feature_engineering_map']"
   ]
  },
  {
   "cell_type": "code",
   "execution_count": 69,
   "id": "0666b65c-c987-49c6-b0ab-83ae0cca4371",
   "metadata": {},
   "outputs": [
    {
     "name": "stdout",
     "output_type": "stream",
     "text": [
      "Help on function continuous_variables in module process.pipelines.data_processing.nodes:\n",
      "\n",
      "continuous_variables(df: pandas.core.frame.DataFrame, parameters: Dict) -> pandas.core.frame.DataFrame\n",
      "    Scale continuous variables with mean imputation\n",
      "    \n",
      "    Args:\n",
      "        df (pd.DataFrame): raw feature table\n",
      "        parameters ([type], optional): dictionary of feature and type mapping.\n",
      "    \n",
      "    Returns:\n",
      "        Tuple: scaled dense feature table and scalar mapping\n",
      "\n",
      "Help on function categorical_variables in module process.pipelines.data_processing.nodes:\n",
      "\n",
      "categorical_variables(df: pandas.core.frame.DataFrame, parameters: Dict) -> Tuple\n",
      "    Convert categorical variables to continuous variables\n",
      "    \n",
      "    Args:\n",
      "        df (pd.DataFrame): dense raw features\n",
      "        parameters ([type], optional): dictionary of feature and type mapping. Defaults to None.\n",
      "    \n",
      "    Returns:\n",
      "        Tuple: categorical features and label mapping\n",
      "\n"
     ]
    }
   ],
   "source": [
    "cont_features = dp.continuous_variables(customers, parameters)\n",
    "help(dp.continuous_variables)\n",
    "\n",
    "cat_features, label_mapping = dp.categorical_variables(customers, parameters)\n",
    "help(dp.categorical_variables)"
   ]
  },
  {
   "cell_type": "code",
   "execution_count": 61,
   "id": "24ab198d-8bf9-4ddc-ae23-2e2d1fe63615",
   "metadata": {},
   "outputs": [
    {
     "data": {
      "text/html": [
       "<div>\n",
       "<style scoped>\n",
       "    .dataframe tbody tr th:only-of-type {\n",
       "        vertical-align: middle;\n",
       "    }\n",
       "\n",
       "    .dataframe tbody tr th {\n",
       "        vertical-align: top;\n",
       "    }\n",
       "\n",
       "    .dataframe thead th {\n",
       "        text-align: right;\n",
       "    }\n",
       "</style>\n",
       "<table border=\"1\" class=\"dataframe\">\n",
       "  <thead>\n",
       "    <tr style=\"text-align: right;\">\n",
       "      <th></th>\n",
       "      <th>age</th>\n",
       "      <th>income</th>\n",
       "      <th>customer_loyalty_index</th>\n",
       "      <th>brand_awareness_index</th>\n",
       "    </tr>\n",
       "  </thead>\n",
       "  <tbody>\n",
       "    <tr>\n",
       "      <th>0</th>\n",
       "      <td>1.123826</td>\n",
       "      <td>-0.369170</td>\n",
       "      <td>0.039494</td>\n",
       "      <td>-0.253363</td>\n",
       "    </tr>\n",
       "    <tr>\n",
       "      <th>1</th>\n",
       "      <td>-1.045294</td>\n",
       "      <td>-0.919187</td>\n",
       "      <td>-3.448415</td>\n",
       "      <td>-0.316156</td>\n",
       "    </tr>\n",
       "    <tr>\n",
       "      <th>2</th>\n",
       "      <td>0.610087</td>\n",
       "      <td>0.330852</td>\n",
       "      <td>0.000000</td>\n",
       "      <td>0.000000</td>\n",
       "    </tr>\n",
       "    <tr>\n",
       "      <th>3</th>\n",
       "      <td>-1.501951</td>\n",
       "      <td>-0.294167</td>\n",
       "      <td>0.105614</td>\n",
       "      <td>-0.315410</td>\n",
       "    </tr>\n",
       "    <tr>\n",
       "      <th>4</th>\n",
       "      <td>-0.189062</td>\n",
       "      <td>-1.369201</td>\n",
       "      <td>0.516192</td>\n",
       "      <td>-0.316156</td>\n",
       "    </tr>\n",
       "  </tbody>\n",
       "</table>\n",
       "</div>"
      ],
      "text/plain": [
       "        age    income  customer_loyalty_index  brand_awareness_index\n",
       "0  1.123826 -0.369170                0.039494              -0.253363\n",
       "1 -1.045294 -0.919187               -3.448415              -0.316156\n",
       "2  0.610087  0.330852                0.000000               0.000000\n",
       "3 -1.501951 -0.294167                0.105614              -0.315410\n",
       "4 -0.189062 -1.369201                0.516192              -0.316156"
      ]
     },
     "execution_count": 61,
     "metadata": {},
     "output_type": "execute_result"
    }
   ],
   "source": [
    "# We should be scaled with mean 0.\n",
    "cont_features.head()"
   ]
  },
  {
   "cell_type": "code",
   "execution_count": 62,
   "id": "a6217659-b486-4acb-b37d-b846f9aed2fd",
   "metadata": {},
   "outputs": [
    {
     "data": {
      "text/html": [
       "<div>\n",
       "<style scoped>\n",
       "    .dataframe tbody tr th:only-of-type {\n",
       "        vertical-align: middle;\n",
       "    }\n",
       "\n",
       "    .dataframe tbody tr th {\n",
       "        vertical-align: top;\n",
       "    }\n",
       "\n",
       "    .dataframe thead th {\n",
       "        text-align: right;\n",
       "    }\n",
       "</style>\n",
       "<table border=\"1\" class=\"dataframe\">\n",
       "  <thead>\n",
       "    <tr style=\"text-align: right;\">\n",
       "      <th></th>\n",
       "      <th>state_label</th>\n",
       "      <th>gender_label</th>\n",
       "      <th>is_married_label</th>\n",
       "      <th>promo_group_1_label</th>\n",
       "      <th>promo_group_2_label</th>\n",
       "    </tr>\n",
       "    <tr>\n",
       "      <th>customer_id</th>\n",
       "      <th></th>\n",
       "      <th></th>\n",
       "      <th></th>\n",
       "      <th></th>\n",
       "      <th></th>\n",
       "    </tr>\n",
       "  </thead>\n",
       "  <tbody>\n",
       "    <tr>\n",
       "      <th>0</th>\n",
       "      <td>6</td>\n",
       "      <td>0</td>\n",
       "      <td>1</td>\n",
       "      <td>0</td>\n",
       "      <td>0</td>\n",
       "    </tr>\n",
       "    <tr>\n",
       "      <th>1</th>\n",
       "      <td>7</td>\n",
       "      <td>0</td>\n",
       "      <td>1</td>\n",
       "      <td>0</td>\n",
       "      <td>2</td>\n",
       "    </tr>\n",
       "    <tr>\n",
       "      <th>2</th>\n",
       "      <td>5</td>\n",
       "      <td>0</td>\n",
       "      <td>1</td>\n",
       "      <td>2</td>\n",
       "      <td>0</td>\n",
       "    </tr>\n",
       "    <tr>\n",
       "      <th>3</th>\n",
       "      <td>4</td>\n",
       "      <td>0</td>\n",
       "      <td>0</td>\n",
       "      <td>1</td>\n",
       "      <td>2</td>\n",
       "    </tr>\n",
       "    <tr>\n",
       "      <th>4</th>\n",
       "      <td>0</td>\n",
       "      <td>0</td>\n",
       "      <td>0</td>\n",
       "      <td>0</td>\n",
       "      <td>1</td>\n",
       "    </tr>\n",
       "  </tbody>\n",
       "</table>\n",
       "</div>"
      ],
      "text/plain": [
       "             state_label  gender_label  is_married_label  promo_group_1_label  \\\n",
       "customer_id                                                                     \n",
       "0                      6             0                 1                    0   \n",
       "1                      7             0                 1                    0   \n",
       "2                      5             0                 1                    2   \n",
       "3                      4             0                 0                    1   \n",
       "4                      0             0                 0                    0   \n",
       "\n",
       "             promo_group_2_label  \n",
       "customer_id                       \n",
       "0                              0  \n",
       "1                              2  \n",
       "2                              0  \n",
       "3                              2  \n",
       "4                              1  "
      ]
     },
     "execution_count": 62,
     "metadata": {},
     "output_type": "execute_result"
    }
   ],
   "source": [
    "#We should have numbers instead of string values.\n",
    "cat_features.head()"
   ]
  },
  {
   "cell_type": "code",
   "execution_count": 63,
   "id": "ccd42a4d-821e-42ae-b298-43c0ab670650",
   "metadata": {},
   "outputs": [
    {
     "data": {
      "text/html": [
       "<div>\n",
       "<style scoped>\n",
       "    .dataframe tbody tr th:only-of-type {\n",
       "        vertical-align: middle;\n",
       "    }\n",
       "\n",
       "    .dataframe tbody tr th {\n",
       "        vertical-align: top;\n",
       "    }\n",
       "\n",
       "    .dataframe thead th {\n",
       "        text-align: right;\n",
       "    }\n",
       "</style>\n",
       "<table border=\"1\" class=\"dataframe\">\n",
       "  <thead>\n",
       "    <tr style=\"text-align: right;\">\n",
       "      <th></th>\n",
       "      <th>input</th>\n",
       "      <th>output</th>\n",
       "      <th>attribute</th>\n",
       "    </tr>\n",
       "  </thead>\n",
       "  <tbody>\n",
       "    <tr>\n",
       "      <th>0</th>\n",
       "      <td>CA</td>\n",
       "      <td>0</td>\n",
       "      <td>state</td>\n",
       "    </tr>\n",
       "    <tr>\n",
       "      <th>1</th>\n",
       "      <td>FL</td>\n",
       "      <td>1</td>\n",
       "      <td>state</td>\n",
       "    </tr>\n",
       "    <tr>\n",
       "      <th>2</th>\n",
       "      <td>GA</td>\n",
       "      <td>2</td>\n",
       "      <td>state</td>\n",
       "    </tr>\n",
       "    <tr>\n",
       "      <th>3</th>\n",
       "      <td>MA</td>\n",
       "      <td>3</td>\n",
       "      <td>state</td>\n",
       "    </tr>\n",
       "    <tr>\n",
       "      <th>4</th>\n",
       "      <td>ME</td>\n",
       "      <td>4</td>\n",
       "      <td>state</td>\n",
       "    </tr>\n",
       "  </tbody>\n",
       "</table>\n",
       "</div>"
      ],
      "text/plain": [
       "  input  output attribute\n",
       "0    CA       0     state\n",
       "1    FL       1     state\n",
       "2    GA       2     state\n",
       "3    MA       3     state\n",
       "4    ME       4     state"
      ]
     },
     "execution_count": 63,
     "metadata": {},
     "output_type": "execute_result"
    }
   ],
   "source": [
    "#We also have the mapping for the label encoding\n",
    "label_mapping.head()"
   ]
  },
  {
   "cell_type": "markdown",
   "id": "ce6e8ca8-a5dd-4c54-94cb-26bd85ad311b",
   "metadata": {},
   "source": [
    "One last step in our feature table process is dropping variables with high multicollinearity (as measured with VIF).\n",
    "\n",
    "To view logic for VIF please see (/src/process/pipelines/data_processing/nodes.py)"
   ]
  },
  {
   "cell_type": "code",
   "execution_count": 64,
   "id": "91d481aa-432b-4e34-a59c-3013c4595a52",
   "metadata": {},
   "outputs": [
    {
     "name": "stdout",
     "output_type": "stream",
     "text": [
      "9\n"
     ]
    },
    {
     "name": "stderr",
     "output_type": "stream",
     "text": [
      "[Parallel(n_jobs=-1)]: Using backend LokyBackend with 8 concurrent workers.\n",
      "[Parallel(n_jobs=-1)]: Done   2 out of   9 | elapsed:    2.1s remaining:    7.5s\n",
      "[Parallel(n_jobs=-1)]: Done   4 out of   9 | elapsed:    2.2s remaining:    2.7s\n",
      "[Parallel(n_jobs=-1)]: Done   6 out of   9 | elapsed:    2.3s remaining:    1.1s\n"
     ]
    },
    {
     "name": "stdout",
     "output_type": "stream",
     "text": [
      "Remaining variables:\n",
      "[['state_label', 'gender_label', 'is_married_label', 'promo_group_1_label', 'promo_group_2_label', 'age', 'income', 'customer_loyalty_index', 'brand_awareness_index']]\n"
     ]
    },
    {
     "name": "stderr",
     "output_type": "stream",
     "text": [
      "[Parallel(n_jobs=-1)]: Done   9 out of   9 | elapsed:    2.5s finished\n"
     ]
    }
   ],
   "source": [
    "feature_table = dp.standardized_feature_table(response, cont_features, cat_features)"
   ]
  },
  {
   "cell_type": "code",
   "execution_count": 65,
   "id": "0c361f94-aa58-4d74-bdae-c7b46055cae1",
   "metadata": {},
   "outputs": [
    {
     "data": {
      "text/html": [
       "<div>\n",
       "<style scoped>\n",
       "    .dataframe tbody tr th:only-of-type {\n",
       "        vertical-align: middle;\n",
       "    }\n",
       "\n",
       "    .dataframe tbody tr th {\n",
       "        vertical-align: top;\n",
       "    }\n",
       "\n",
       "    .dataframe thead th {\n",
       "        text-align: right;\n",
       "    }\n",
       "</style>\n",
       "<table border=\"1\" class=\"dataframe\">\n",
       "  <thead>\n",
       "    <tr style=\"text-align: right;\">\n",
       "      <th></th>\n",
       "      <th>rolling_6_month_ltv</th>\n",
       "      <th>state_label</th>\n",
       "      <th>gender_label</th>\n",
       "      <th>is_married_label</th>\n",
       "      <th>promo_group_1_label</th>\n",
       "      <th>promo_group_2_label</th>\n",
       "      <th>age</th>\n",
       "      <th>income</th>\n",
       "      <th>customer_loyalty_index</th>\n",
       "      <th>brand_awareness_index</th>\n",
       "    </tr>\n",
       "  </thead>\n",
       "  <tbody>\n",
       "    <tr>\n",
       "      <th>0</th>\n",
       "      <td>134.0</td>\n",
       "      <td>6</td>\n",
       "      <td>0</td>\n",
       "      <td>1</td>\n",
       "      <td>0</td>\n",
       "      <td>0</td>\n",
       "      <td>1.123826</td>\n",
       "      <td>-0.36917</td>\n",
       "      <td>0.039494</td>\n",
       "      <td>-0.253363</td>\n",
       "    </tr>\n",
       "    <tr>\n",
       "      <th>0</th>\n",
       "      <td>228.0</td>\n",
       "      <td>6</td>\n",
       "      <td>0</td>\n",
       "      <td>1</td>\n",
       "      <td>0</td>\n",
       "      <td>0</td>\n",
       "      <td>1.123826</td>\n",
       "      <td>-0.36917</td>\n",
       "      <td>0.039494</td>\n",
       "      <td>-0.253363</td>\n",
       "    </tr>\n",
       "    <tr>\n",
       "      <th>0</th>\n",
       "      <td>181.0</td>\n",
       "      <td>6</td>\n",
       "      <td>0</td>\n",
       "      <td>1</td>\n",
       "      <td>0</td>\n",
       "      <td>0</td>\n",
       "      <td>1.123826</td>\n",
       "      <td>-0.36917</td>\n",
       "      <td>0.039494</td>\n",
       "      <td>-0.253363</td>\n",
       "    </tr>\n",
       "    <tr>\n",
       "      <th>0</th>\n",
       "      <td>197.0</td>\n",
       "      <td>6</td>\n",
       "      <td>0</td>\n",
       "      <td>1</td>\n",
       "      <td>0</td>\n",
       "      <td>0</td>\n",
       "      <td>1.123826</td>\n",
       "      <td>-0.36917</td>\n",
       "      <td>0.039494</td>\n",
       "      <td>-0.253363</td>\n",
       "    </tr>\n",
       "    <tr>\n",
       "      <th>0</th>\n",
       "      <td>166.0</td>\n",
       "      <td>6</td>\n",
       "      <td>0</td>\n",
       "      <td>1</td>\n",
       "      <td>0</td>\n",
       "      <td>0</td>\n",
       "      <td>1.123826</td>\n",
       "      <td>-0.36917</td>\n",
       "      <td>0.039494</td>\n",
       "      <td>-0.253363</td>\n",
       "    </tr>\n",
       "  </tbody>\n",
       "</table>\n",
       "</div>"
      ],
      "text/plain": [
       "   rolling_6_month_ltv  state_label  gender_label  is_married_label  \\\n",
       "0                134.0            6             0                 1   \n",
       "0                228.0            6             0                 1   \n",
       "0                181.0            6             0                 1   \n",
       "0                197.0            6             0                 1   \n",
       "0                166.0            6             0                 1   \n",
       "\n",
       "   promo_group_1_label  promo_group_2_label       age   income  \\\n",
       "0                    0                    0  1.123826 -0.36917   \n",
       "0                    0                    0  1.123826 -0.36917   \n",
       "0                    0                    0  1.123826 -0.36917   \n",
       "0                    0                    0  1.123826 -0.36917   \n",
       "0                    0                    0  1.123826 -0.36917   \n",
       "\n",
       "   customer_loyalty_index  brand_awareness_index  \n",
       "0                0.039494              -0.253363  \n",
       "0                0.039494              -0.253363  \n",
       "0                0.039494              -0.253363  \n",
       "0                0.039494              -0.253363  \n",
       "0                0.039494              -0.253363  "
      ]
     },
     "execution_count": 65,
     "metadata": {},
     "output_type": "execute_result"
    }
   ],
   "source": [
    "feature_table.head()"
   ]
  },
  {
   "cell_type": "markdown",
   "id": "b13a3af0-d65d-451b-935c-9460d4a9f184",
   "metadata": {},
   "source": [
    "## 6. Model Training"
   ]
  },
  {
   "cell_type": "code",
   "execution_count": null,
   "id": "5870d79f-bd72-4ac6-9869-f1f72f901fd8",
   "metadata": {},
   "outputs": [],
   "source": [
    "First we will split our data into training and testing sets"
   ]
  },
  {
   "cell_type": "code",
   "execution_count": 66,
   "id": "78c32b37-3dee-4eed-bb73-e12eae997a3c",
   "metadata": {},
   "outputs": [
    {
     "name": "stdout",
     "output_type": "stream",
     "text": [
      "Help on function _split_data in module process.pipelines.data_science.nodes:\n",
      "\n",
      "_split_data(feature_table: pandas.core.frame.DataFrame, response: str) -> Tuple\n",
      "\n"
     ]
    }
   ],
   "source": [
    "help(ds._split_data)"
   ]
  },
  {
   "cell_type": "code",
   "execution_count": null,
   "id": "8847ee00-f34e-4aa9-aafe-a554d8775e04",
   "metadata": {},
   "outputs": [],
   "source": [
    "X_train, X_test, y_train, y_test = _split_data(feature_table, \"6_mo_rolling_transaction_value\")"
   ]
  },
  {
   "cell_type": "code",
   "execution_count": 9,
   "id": "4c63af56-2469-4342-8b58-aa0cc0102b29",
   "metadata": {},
   "outputs": [
    {
     "name": "stdout",
     "output_type": "stream",
     "text": [
      "The mean squared error (MSE) on test set: 9783.0927\n",
      "Explained variance: 0.387\n"
     ]
    },
    {
     "data": {
      "image/png": "[encoded data removed]",
      "text/plain": [
       "<Figure size 432x432 with 1 Axes>"
      ]
     },
     "metadata": {
      "needs_background": "light"
     },
     "output_type": "display_data"
    },
    {
     "data": {
      "image/png": "[encoded data removed]",
      "text/plain": [
       "<Figure size 864x432 with 2 Axes>"
      ]
     },
     "metadata": {
      "needs_background": "light"
     },
     "output_type": "display_data"
    }
   ],
   "source": [
    "gradBoostReg = gradientBoostingRegressor(X_train, X_test, y_train, y_test)"
   ]
  },
  {
   "cell_type": "code",
   "execution_count": null,
   "id": "d4e3ddca-256a-4db8-9b5c-6a61f8b9c59f",
   "metadata": {},
   "outputs": [],
   "source": []
  }
 ],
 "metadata": {
  "kernelspec": {
   "display_name": "LTVModel",
   "language": "python",
   "name": "python3"
  },
  "language_info": {
   "codemirror_mode": {
    "name": "ipython",
    "version": 3
   },
   "file_extension": ".py",
   "mimetype": "text/x-python",
   "name": "python",
   "nbconvert_exporter": "python",
   "pygments_lexer": "ipython3",
   "version": "3.8.9"
  }
 },
 "nbformat": 4,
 "nbformat_minor": 5
}
